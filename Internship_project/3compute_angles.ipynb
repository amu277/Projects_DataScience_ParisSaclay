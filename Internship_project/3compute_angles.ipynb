{
 "cells": [
  {
   "cell_type": "markdown",
   "metadata": {},
   "source": [
    "#### Create initial dataframe"
   ]
  },
  {
   "cell_type": "code",
   "execution_count": null,
   "metadata": {},
   "outputs": [],
   "source": [
    "# Create initial dataframe\n",
    "import pandas as pd\n",
    "\n",
    "file = pd.read_csv('../transitions/transition_C04B2C5EEB24_1503931079.181505_0_6.csv',  sep=' ', header = None) \n",
    "\n",
    "df = pd.DataFrame(file)\n",
    "df.columns = ['mag_x', 'mag_y', 'mag_z', 'temp', 'acc_x', 'acc_y', 'acc_z', 'gyr_x', 'gyr_y', 'gyr_z', 'vib_ind', 'ts']\n",
    "df.head()\n"
   ]
  },
  {
   "cell_type": "markdown",
   "metadata": {},
   "source": [
    "#### Run calculations"
   ]
  },
  {
   "cell_type": "code",
   "execution_count": null,
   "metadata": {
    "collapsed": true
   },
   "outputs": [],
   "source": [
    "from prop_defs import transform_units, angles_comp, kalman_filter, mag_yaw\n",
    "\n",
    "def run_calcs(df):\n",
    "\n",
    "    # Apply calibrations and sensitivity\n",
    "    pdf = transform_units(df, 1,1,1) # acc, gyr, mag calibrated\n",
    "\n",
    "    # Compute euler angles\n",
    "    cdf = angles_comp(pdf, 50) # 50 Hz\n",
    "    cdf['ts'] = cdf.index\n",
    "\n",
    "    # Kalman filter\n",
    "    kdf = kalman_filter(cdf, 1, 50) # vibration on, 50 Hz\n",
    "\n",
    "    # Tilt-compensated yaw computation with magnetometer\n",
    "    vals_df = mag_yaw(kdf, pdf) # kalman results, data with magnetometer values\n",
    "    vals_df['ts'] = vals_df.index # time index\n",
    "\n",
    "    # View dataframe\n",
    "    vals_df = pd.merge(vals_df, cdf[['acc_angle_z', 'ts']], how = 'inner', on = 'ts') # Optional step, add tilt angle\n",
    "    \n",
    "    return vals_df"
   ]
  },
  {
   "cell_type": "code",
   "execution_count": null,
   "metadata": {
    "collapsed": true
   },
   "outputs": [],
   "source": [
    "%time vals_df = run_calcs(df)\n",
    "vals_df.shape"
   ]
  },
  {
   "cell_type": "code",
   "execution_count": null,
   "metadata": {
    "collapsed": true
   },
   "outputs": [],
   "source": [
    "vals_df.tail()"
   ]
  },
  {
   "cell_type": "code",
   "execution_count": null,
   "metadata": {
    "collapsed": true
   },
   "outputs": [],
   "source": [
    "import matplotlib.pyplot as plt\n",
    "\n",
    "df = vals_df\n",
    "\n",
    "# Optional conversion\n",
    "dt = 0.02 # 1/Sampling rate Hz\n",
    "ts = df.ts * dt\n",
    "\n",
    "# Plots\n",
    "\n",
    "fig, ax = plt.subplots()\n",
    "\n",
    "ax.plot(ts, df['kalman_roll'], color='r', label='kalman_roll')\n",
    "ax.plot(ts, df['kalman_pitch'], color='b', label='kalman_pitch')\n",
    "ax.plot(ts, df['acc_angle_z'], color='y', label='tilt angle - acc')\n",
    "ax.plot(ts, df['yaw'], color='g', label='yaw')\n",
    "\n",
    "handles, labels = ax.get_legend_handles_labels()\n",
    "ax.legend(handles, labels, bbox_to_anchor=(1.05, 1), loc=2, borderaxespad=0.)\n",
    "ax.set_xlabel('Time (secs)')\n",
    "ax.set_ylabel('$^\\circ$ degrees')\n",
    "plt.title('Rotation Angles')\n",
    "plt.show(fig)\n"
   ]
  }
 ],
 "metadata": {
  "kernelspec": {
   "display_name": "Python 3",
   "language": "python",
   "name": "python3"
  },
  "language_info": {
   "codemirror_mode": {
    "name": "ipython",
    "version": 3
   },
   "file_extension": ".py",
   "mimetype": "text/x-python",
   "name": "python",
   "nbconvert_exporter": "python",
   "pygments_lexer": "ipython3",
   "version": "3.4.0"
  }
 },
 "nbformat": 4,
 "nbformat_minor": 2
}
