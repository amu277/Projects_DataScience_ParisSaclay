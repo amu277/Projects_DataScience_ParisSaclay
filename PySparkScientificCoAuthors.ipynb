{
  "cells": [
  {
   "cell_type": "markdown",
   "metadata": {},
   "source": [
    "## Datastream Processing Lab 1: B.2 Application on the SHealth dataset"
   ]
  },
  {
   "cell_type": "markdown",
   "metadata": {},
   "source": [
    "Arpa MUKHERJEE"
   ]
  },
  {
   "cell_type": "code",
   "execution_count": 1,
   "metadata": {
    "collapsed": true
   },
   "outputs": [],
   "source": [
    "import findspark\n",
    "findspark.init('C:\\spark')\n",
    "import pyspark\n",
    "from pyspark import SparkContext"
   ]
  },
  {
   "cell_type": "code",
   "execution_count": 2,
   "metadata": {
    "collapsed": true
   },
   "outputs": [],
   "source": [
    "# Set Spark Configurations\n",
    "conf = pyspark.SparkConf().setAppName(\"App\")\n",
    "conf = (conf.setMaster('local[*]')\n",
    "        .set('spark.executor.memory', '8G')\n",
    "        .set('spark.driver.memory', '45G')\n",
    "        .set('spark.driver.maxResultSize', '10G')\n",
    "        .set('spark.yarn.executor.memoryOverhead', '2048MB')\n",
    "        .set('spark.default.parallelism', '100'))\n",
    "sc = SparkContext(conf=conf)"
   ]
  },
  {
   "cell_type": "code",
   "execution_count": 3,
   "metadata": {
    "collapsed": true
   },
   "outputs": [],
   "source": [
    "# Get relevant datasets\n",
    "\n",
    "# Paper auths\n",
    "papauths_rdd = sc.textFile(\"Documents/paperauths3.csv\").map(lambda line: line.split(\",\")) \n",
    "\n",
    "# Authors\n",
    "auths_rdd = sc.textFile(\"Documents/authors.csv\").map(lambda line: line.split(\",\")) "
   ]
  },
  {
   "cell_type": "code",
   "execution_count": 4,
   "metadata": {
    "collapsed": true
   },
   "outputs": [],
   "source": [
    "# # Check length of dataset for minsupport calculation\n",
    "# import pandas as pd\n",
    "# import numpy as np\n",
    "\n",
    "# df = pd.read_csv(\"Documents/papers.csv\")\n",
    "# tf = np.unique(df.id)\n",
    "# minpapers = len(tf)*0.0001 \n",
    "# minpapers # result: 315 -- so find the set of authors that have atleast written this many papers"
   ]
  },
  {
   "cell_type": "code",
   "execution_count": 5,
   "metadata": {},
   "outputs": [
    {
     "name": "stdout",
     "output_type": "stream",
     "text": [
      "+-------+--------------------+\n",
      "|     _1|                  _2|\n",
      "+-------+--------------------+\n",
      "|2847493|            Sheng Yu|\n",
      "|2847494|    Clelia de Felice|\n",
      "|2847486|         Vesa Halava|\n",
      "|2847488|         Vesa Halava|\n",
      "|2847491|         Vesa Halava|\n",
      "|2847486|          Tero Harju|\n",
      "|2847488|          Tero Harju|\n",
      "|2847491|          Tero Harju|\n",
      "|2847494|     Paola Bonizzoni|\n",
      "|2847489|   Jean-Pierre Borel|\n",
      "|2847491|     Jeffrey Shallit|\n",
      "|2847494|       Rosalba Zizza|\n",
      "|2847494|     Giancarlo Mauri|\n",
      "|2847491|     Narad Rampersad|\n",
      "|2847493|         Kai Salomaa|\n",
      "|2847490|Alessandra Cherubini|\n",
      "|2847486|         Michel Rigo|\n",
      "|2847490|         Michel Rigo|\n",
      "|2847492|         Michel Rigo|\n",
      "|2847486|          Tomi Kärki|\n",
      "+-------+--------------------+\n",
      "only showing top 20 rows\n",
      "\n"
     ]
    }
   ],
   "source": [
    "# Map author names to paper ids\n",
    "\n",
    "from pyspark.sql import SparkSession\n",
    "from pyspark.sql import SQLContext\n",
    "\n",
    "sqlContext = SQLContext(sc)\n",
    "\n",
    "spark = SparkSession \\\n",
    "    .builder \\\n",
    "    .appName(\"temp sql\") \\\n",
    "    .getOrCreate()\n",
    "    \n",
    "# Infer the schema, and register the DataFrame as a table.\n",
    "schemaAuths = sqlContext.createDataFrame(auths_rdd)\n",
    "schemaAuths.createOrReplaceTempView(\"auths\")\n",
    "\n",
    "schemaPaperAuths = sqlContext.createDataFrame(papauths_rdd)\n",
    "schemaPaperAuths.createOrReplaceTempView(\"papauths\")\n",
    "\n",
    "# SQL to map names of authors to paperid\n",
    "auth_names = spark.sql(\"SELECT papauths._1, auths._2 from papauths left join auths on papauths._2 = auths._1\")\n",
    "\n",
    "auth_names.show()"
   ]
  },
  {
   "cell_type": "code",
   "execution_count": 6,
   "metadata": {
    "collapsed": true
   },
   "outputs": [],
   "source": [
    "# Convert dataframe to rdd\n",
    "papauthrdd = auth_names.rdd"
   ]
  },
  {
   "cell_type": "code",
   "execution_count": 7,
   "metadata": {
    "collapsed": true
   },
   "outputs": [],
   "source": [
    "# Get unique key-value pairs of: paper_id, [author_ids] and flatten to list of lists of author ids that worked together\n",
    "papauths_grp = papauthrdd.groupByKey().map(lambda x : (x[0], list(x[1]))) # paper id, [author_ids]\n",
    "auths_temp = papauths_grp.groupByKey().map(lambda x : (list(x[1]))) # [[author_ids_paper1], [author_ids_paper_2]..]\n",
    "auth_pairs = auths_temp.flatMap(lambda x: x) # wrapped array not unique (some authors printed multiple times per paper)\n",
    "auth_list = auth_pairs.map(lambda x: list(set(x))).cache() # get arrays with unique values only"
   ]
  },
  {
   "cell_type": "code",
   "execution_count": 8,
   "metadata": {
    "collapsed": true
   },
   "outputs": [],
   "source": [
    "# Conversions for processing under FPGrowth\n",
    "alist = auth_list.collect()\n",
    "ardd = sc.parallelize(alist)"
   ]
  },
  {
   "cell_type": "code",
   "execution_count": 9,
   "metadata": {
    "collapsed": true
   },
   "outputs": [],
   "source": [
    "# Run FP Growth algorithm to find frequent sets of authors\n",
    "from pyspark.mllib.fpm import FPGrowth\n",
    "\n",
    "#model = FPGrowth.train(ardd, minSupport= 0.000005, numPartitions= 10)\n",
    "#model = FPGrowth.train(ardd, minSupport= 0.00001, numPartitions= 10) #0001, #00015, #00018\n",
    "model = FPGrowth.train(ardd, minSupport= 0.1, numPartitions= 1)\n",
    "#res = model.freqItemsets()\n",
    "\n",
    "#res.saveAsTextFile(\"hw5resultsx\")"
   ]
  },
  {
   "cell_type": "code",
   "execution_count": 10,
   "metadata": {},
   "outputs": [
    {
     "name": "stdout",
     "output_type": "stream",
     "text": [
      "FreqItemset(items=['Alessandra Cherubini'], freq=1)\n",
      "FreqItemset(items=['Alessandra Cherubini', 'Michel Rigo'], freq=1)\n",
      "FreqItemset(items=['Alessandra Cherubini', 'Tomi Kärki'], freq=1)\n",
      "FreqItemset(items=['Alessandra Cherubini', 'Tomi Kärki', 'Michel Rigo'], freq=1)\n",
      "FreqItemset(items=['Clelia de Felice'], freq=1)\n",
      "FreqItemset(items=['Clelia de Felice', 'Giancarlo Mauri'], freq=1)\n",
      "FreqItemset(items=['Clelia de Felice', 'Giancarlo Mauri', 'Paola Bonizzoni'], freq=1)\n",
      "FreqItemset(items=['Clelia de Felice', 'Giancarlo Mauri', 'Rosalba Zizza'], freq=1)\n",
      "FreqItemset(items=['Clelia de Felice', 'Giancarlo Mauri', 'Rosalba Zizza', 'Paola Bonizzoni'], freq=1)\n",
      "FreqItemset(items=['Clelia de Felice', 'Paola Bonizzoni'], freq=1)\n",
      "FreqItemset(items=['Clelia de Felice', 'Rosalba Zizza'], freq=1)\n",
      "FreqItemset(items=['Clelia de Felice', 'Rosalba Zizza', 'Paola Bonizzoni'], freq=1)\n",
      "FreqItemset(items=['Giancarlo Mauri'], freq=1)\n",
      "FreqItemset(items=['Giancarlo Mauri', 'Paola Bonizzoni'], freq=1)\n",
      "FreqItemset(items=['Giancarlo Mauri', 'Rosalba Zizza'], freq=1)\n",
      "FreqItemset(items=['Giancarlo Mauri', 'Rosalba Zizza', 'Paola Bonizzoni'], freq=1)\n",
      "FreqItemset(items=['Jean-Pierre Borel'], freq=1)\n",
      "FreqItemset(items=['Jeffrey Shallit'], freq=1)\n",
      "FreqItemset(items=['Jeffrey Shallit', 'Narad Rampersad'], freq=1)\n",
      "FreqItemset(items=['Jeffrey Shallit', 'Narad Rampersad', 'Tero Harju'], freq=1)\n",
      "FreqItemset(items=['Jeffrey Shallit', 'Narad Rampersad', 'Vesa Halava'], freq=1)\n",
      "FreqItemset(items=['Jeffrey Shallit', 'Narad Rampersad', 'Vesa Halava', 'Tero Harju'], freq=1)\n",
      "FreqItemset(items=['Jeffrey Shallit', 'Tero Harju'], freq=1)\n",
      "FreqItemset(items=['Jeffrey Shallit', 'Vesa Halava'], freq=1)\n",
      "FreqItemset(items=['Jeffrey Shallit', 'Vesa Halava', 'Tero Harju'], freq=1)\n",
      "FreqItemset(items=['Kai Salomaa'], freq=1)\n",
      "FreqItemset(items=['Kai Salomaa', 'Sheng Yu'], freq=1)\n",
      "FreqItemset(items=['Luca Breveglieri'], freq=1)\n",
      "FreqItemset(items=['Luca Breveglieri', 'Alessandra Cherubini'], freq=1)\n",
      "FreqItemset(items=['Luca Breveglieri', 'Alessandra Cherubini', 'Michel Rigo'], freq=1)\n",
      "FreqItemset(items=['Luca Breveglieri', 'Alessandra Cherubini', 'Tomi Kärki'], freq=1)\n",
      "FreqItemset(items=['Luca Breveglieri', 'Alessandra Cherubini', 'Tomi Kärki', 'Michel Rigo'], freq=1)\n",
      "FreqItemset(items=['Luca Breveglieri', 'Michel Rigo'], freq=1)\n",
      "FreqItemset(items=['Luca Breveglieri', 'Tomi Kärki'], freq=1)\n",
      "FreqItemset(items=['Luca Breveglieri', 'Tomi Kärki', 'Michel Rigo'], freq=1)\n",
      "FreqItemset(items=['Michel Rigo'], freq=3)\n",
      "FreqItemset(items=['Narad Rampersad'], freq=1)\n",
      "FreqItemset(items=['Narad Rampersad', 'Tero Harju'], freq=1)\n",
      "FreqItemset(items=['Narad Rampersad', 'Vesa Halava'], freq=1)\n",
      "FreqItemset(items=['Narad Rampersad', 'Vesa Halava', 'Tero Harju'], freq=1)\n",
      "FreqItemset(items=['Paola Bonizzoni'], freq=1)\n",
      "FreqItemset(items=['Rosalba Zizza'], freq=1)\n",
      "FreqItemset(items=['Rosalba Zizza', 'Paola Bonizzoni'], freq=1)\n",
      "FreqItemset(items=['Sheng Yu'], freq=1)\n",
      "FreqItemset(items=['Solomon Marcus'], freq=1)\n",
      "FreqItemset(items=['Tero Harju'], freq=3)\n",
      "FreqItemset(items=['Tero Harju', 'Michel Rigo'], freq=1)\n",
      "FreqItemset(items=['Tero Harju', 'Tomi Kärki'], freq=1)\n",
      "FreqItemset(items=['Tero Harju', 'Tomi Kärki', 'Michel Rigo'], freq=1)\n",
      "FreqItemset(items=['Tomi Kärki'], freq=3)\n",
      "FreqItemset(items=['Tomi Kärki', 'Michel Rigo'], freq=3)\n",
      "FreqItemset(items=['Vesa Halava'], freq=3)\n",
      "FreqItemset(items=['Vesa Halava', 'Michel Rigo'], freq=1)\n",
      "FreqItemset(items=['Vesa Halava', 'Tero Harju'], freq=3)\n",
      "FreqItemset(items=['Vesa Halava', 'Tero Harju', 'Michel Rigo'], freq=1)\n",
      "FreqItemset(items=['Vesa Halava', 'Tero Harju', 'Tomi Kärki'], freq=1)\n",
      "FreqItemset(items=['Vesa Halava', 'Tero Harju', 'Tomi Kärki', 'Michel Rigo'], freq=1)\n",
      "FreqItemset(items=['Vesa Halava', 'Tomi Kärki'], freq=1)\n",
      "FreqItemset(items=['Vesa Halava', 'Tomi Kärki', 'Michel Rigo'], freq=1)\n"
     ]
    }
   ],
   "source": [
    "# View results\n",
    "result = sorted(model.freqItemsets().collect())\n",
    "for fi in result:\n",
    "    print(fi)"
   ]
  },
  {
   "cell_type": "code",
   "execution_count": null,
   "metadata": {
    "collapsed": true
   },
   "outputs": [],
   "source": []
  }
 ],
 "metadata": {
  "kernelspec": {
   "display_name": "Python 3",
   "language": "python",
   "name": "python3"
  },
  "language_info": {
   "codemirror_mode": {
    "name": "ipython",
    "version": 3
   },
   "file_extension": ".py",
   "mimetype": "text/x-python",
   "name": "python",
   "nbconvert_exporter": "python",
   "pygments_lexer": "ipython3",
   "version": "3.4.0"
  }
 },
 "nbformat": 4,
 "nbformat_minor": 2
}
