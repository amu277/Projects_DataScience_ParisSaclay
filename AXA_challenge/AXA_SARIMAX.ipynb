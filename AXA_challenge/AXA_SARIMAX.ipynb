{
 "cells": [
  {
   "cell_type": "code",
   "execution_count": 1,
   "metadata": {
    "collapsed": true
   },
   "outputs": [],
   "source": [
    "%matplotlib inline\n",
    "import pandas as pd\n",
    "import matplotlib.pyplot as plt\n",
    "import numpy as np"
   ]
  },
  {
   "cell_type": "code",
   "execution_count": 13,
   "metadata": {
    "collapsed": false
   },
   "outputs": [],
   "source": [
    "path = \"C:\\Users\\amu277\\Documents\\df_results.csv\"\n",
    "\n",
    "df = pd.read_csv(path,delimiter=';', parse_dates= [0])\n",
    "df = df[[u'DATE','WEEK_END','TPER_TEAM','TPER_HOUR','ASS_ASSIGNMENT','ASS_POLE','SPLIT_COD','CSPL_RECEIVED_CALLS']]\n",
    "df= df.groupby(['DATE','WEEK_END','TPER_TEAM','TPER_HOUR','ASS_ASSIGNMENT','ASS_POLE'], as_index=False).agg({'CSPL_RECEIVED_CALLS' : np.sum})"
   ]
  },
  {
   "cell_type": "code",
   "execution_count": 14,
   "metadata": {
    "collapsed": false
   },
   "outputs": [],
   "source": [
    "df= df.set_index(['DATE'])\n"
   ]
  },
  {
   "cell_type": "code",
   "execution_count": 15,
   "metadata": {
    "collapsed": false
   },
   "outputs": [
    {
     "data": {
      "text/html": [
       "<div>\n",
       "<table border=\"1\" class=\"dataframe\">\n",
       "  <thead>\n",
       "    <tr style=\"text-align: right;\">\n",
       "      <th></th>\n",
       "      <th>WEEK_END</th>\n",
       "      <th>TPER_TEAM</th>\n",
       "      <th>TPER_HOUR</th>\n",
       "      <th>ASS_ASSIGNMENT</th>\n",
       "      <th>ASS_POLE</th>\n",
       "      <th>CSPL_RECEIVED_CALLS</th>\n",
       "    </tr>\n",
       "    <tr>\n",
       "      <th>DATE</th>\n",
       "      <th></th>\n",
       "      <th></th>\n",
       "      <th></th>\n",
       "      <th></th>\n",
       "      <th></th>\n",
       "      <th></th>\n",
       "    </tr>\n",
       "  </thead>\n",
       "  <tbody>\n",
       "    <tr>\n",
       "      <th>2011-01-01</th>\n",
       "      <td>1</td>\n",
       "      <td>Nuit</td>\n",
       "      <td>0</td>\n",
       "      <td>Crises</td>\n",
       "      <td>CRISES</td>\n",
       "      <td>0</td>\n",
       "    </tr>\n",
       "    <tr>\n",
       "      <th>2011-01-01</th>\n",
       "      <td>1</td>\n",
       "      <td>Nuit</td>\n",
       "      <td>0</td>\n",
       "      <td>Domicile</td>\n",
       "      <td>SANTE</td>\n",
       "      <td>0</td>\n",
       "    </tr>\n",
       "    <tr>\n",
       "      <th>2011-01-01</th>\n",
       "      <td>1</td>\n",
       "      <td>Nuit</td>\n",
       "      <td>0</td>\n",
       "      <td>Gestion</td>\n",
       "      <td>ADMINISTRATIF</td>\n",
       "      <td>0</td>\n",
       "    </tr>\n",
       "    <tr>\n",
       "      <th>2011-01-01</th>\n",
       "      <td>1</td>\n",
       "      <td>Nuit</td>\n",
       "      <td>0</td>\n",
       "      <td>Gestion - Accueil Telephonique</td>\n",
       "      <td>ADMINISTRATIF</td>\n",
       "      <td>0</td>\n",
       "    </tr>\n",
       "    <tr>\n",
       "      <th>2011-01-01</th>\n",
       "      <td>1</td>\n",
       "      <td>Nuit</td>\n",
       "      <td>0</td>\n",
       "      <td>Gestion Amex</td>\n",
       "      <td>ADMINISTRATIF</td>\n",
       "      <td>0</td>\n",
       "    </tr>\n",
       "  </tbody>\n",
       "</table>\n",
       "</div>"
      ],
      "text/plain": [
       "            WEEK_END TPER_TEAM  TPER_HOUR                  ASS_ASSIGNMENT  \\\n",
       "DATE                                                                        \n",
       "2011-01-01         1      Nuit          0                          Crises   \n",
       "2011-01-01         1      Nuit          0                        Domicile   \n",
       "2011-01-01         1      Nuit          0                         Gestion   \n",
       "2011-01-01         1      Nuit          0  Gestion - Accueil Telephonique   \n",
       "2011-01-01         1      Nuit          0                    Gestion Amex   \n",
       "\n",
       "                 ASS_POLE  CSPL_RECEIVED_CALLS  \n",
       "DATE                                            \n",
       "2011-01-01         CRISES                    0  \n",
       "2011-01-01          SANTE                    0  \n",
       "2011-01-01  ADMINISTRATIF                    0  \n",
       "2011-01-01  ADMINISTRATIF                    0  \n",
       "2011-01-01  ADMINISTRATIF                    0  "
      ]
     },
     "execution_count": 15,
     "metadata": {},
     "output_type": "execute_result"
    }
   ],
   "source": [
    "df.head()"
   ]
  },
  {
   "cell_type": "code",
   "execution_count": 47,
   "metadata": {
    "collapsed": false
   },
   "outputs": [],
   "source": [
    "\n",
    "import numpy as np\n",
    "df['TPER_TEAM']= pd.Categorical(df.TPER_TEAM).codes\n",
    "df['ASS_POLE'] = pd.Categorical(df.ASS_POLE).codes\n",
    "df['ASSIGNMENT_CODE']= pd.Categorical(df.ASS_ASSIGNMENT).codes\n"
   ]
  },
  {
   "cell_type": "code",
   "execution_count": 77,
   "metadata": {
    "collapsed": true
   },
   "outputs": [],
   "source": [
    "ASS_ASSIGNMENT= {'CAT':0,'CMS':1 ,'Domicile':3,'Gestion':5,'Gestion - Accueil Telephonique':6,'Gestion Amex':7,'Gestion Assurances':8,\n",
    "                'Gestion Clients':9,'Gestion DZ':10,'Gestion Relation Clienteles':11,'Gestion Renault':12,'Japon':13,'Manager':14,'Mécanicien':15,'Médical':16,'Nuit':17,\n",
    "                 'Prestataires':18,'RENAULT':19,\n",
    "                'RTC':20,'Regulation Medicale':21,'SAP':22,'Services':23,'Tech. Axa':24,'Tech. Inter':25,'Tech. Total':26,'Téléphonie':27,'Crises':2}"
   ]
  },
  {
   "cell_type": "code",
   "execution_count": 57,
   "metadata": {
    "collapsed": false
   },
   "outputs": [
    {
     "name": "stdout",
     "output_type": "stream",
     "text": [
      "                     WEEK_END  TPER_TEAM  TPER_HOUR  \\\n",
      "DATE                                                  \n",
      "2011-01-03 07:00:00         0          1          7   \n",
      "2011-01-03 07:30:00         0          0          7   \n",
      "\n",
      "                                  ASS_ASSIGNMENT  ASS_POLE  \\\n",
      "DATE                                                         \n",
      "2011-01-03 07:00:00  Gestion Relation Clienteles         0   \n",
      "2011-01-03 07:30:00  Gestion Relation Clienteles         0   \n",
      "\n",
      "                     CSPL_RECEIVED_CALLS  ASSIGNMENT_CODE  \n",
      "DATE                                                       \n",
      "2011-01-03 07:00:00                    0               11  \n",
      "2011-01-03 07:30:00                    0               11  \n"
     ]
    }
   ],
   "source": [
    "df_RTC = df[df['ASS_ASSIGNMENT']== 'RTC']\n",
    "df_TELE = df[df['ASS_ASSIGNMENT']=='Téléphonie']\n",
    "df_RENAULT = df[df['ASS_ASSIGNMENT']== 'RENAULT']\n",
    "df_GAT = df[df['ASS_ASSIGNMENT']=='Gestion - Accueil Telephonique']\n",
    "df_TT = df[df['ASS_ASSIGNMENT']== 'Tech. Total']\n",
    "df_GA = df[df['ASS_ASSIGNMENT']== 'Gestion Amex']\n",
    "df_T = df[df['ASS_ASSIGNMENT']== 'Tech.Inter']\n",
    "df_S  = df[df['ASS_ASSIGNMENT']== 'Services']\n",
    "df_D = df[df['ASS_ASSIGNMENT']== 'Domicile']\n",
    "df_GR = df[df['ASS_ASSIGNMENT']== 'Gestion Renault']\n",
    "df_GRC = df[df['ASS_ASSIGNMENT']== 'Gestion Relation Clienteles']\n",
    "df_M   = df[df['ASS_ASSIGNMENT']== 'Manager']\n",
    "df_N =  df[df['ASS_ASSIGNMENT']=='Nuit']\n",
    "df_RM = df[df['ASS_ASSIGNMENT']=='Regulation Medicale']\n",
    "df_C = df[df['ASS_ASSIGNMENT']=='Crises']\n",
    "df_J = df[df['ASS_ASSIGNMENT']=='Japon']\n",
    "df_ME = df[df['ASS_ASSIGNMENT']=='Médical']\n",
    "df_GAS = df[df['ASS_ASSIGNMENT']=='Gestion Assurances']\n",
    "df_G = df[df['ASS_ASSIGNMENT']=='Gestion']\n",
    "df_SAP= df[df['ASS_ASSIGNMENT']=='SAP']\n",
    "df_GC = df[df['ASS_ASSIGNMENT']=='Gestion Clients']\n",
    "df_TA = df[df['ASS_ASSIGNMENT']=='Tech. Axa']\n",
    "df_CAT = df[df['ASS_ASSIGNMENT']=='CAT']\n",
    "df_GDZ = df[df['ASS_ASSIGNMENT']=='Gestion DZ']\n",
    "df_MECH = df[df['ASS_ASSIGNMENT']=='Mécanicien']\n",
    "df_CMS = df[df['ASS_ASSIGNMENT']=='CMS']\n",
    "df_P = df[df['ASS_ASSIGNMENT']=='Prestataires']\n",
    "df_E = df[df['ASS_ASSIGNMENT']=='Evenements']\n",
    "#df_D = df_D.to_period( freq= '30 min')\n",
    "\n",
    "df_D.tail()\n"
   ]
  },
  {
   "cell_type": "code",
   "execution_count": 76,
   "metadata": {
    "collapsed": false
   },
   "outputs": [
    {
     "data": {
      "text/html": [
       "<div>\n",
       "<table border=\"1\" class=\"dataframe\">\n",
       "  <thead>\n",
       "    <tr style=\"text-align: right;\">\n",
       "      <th></th>\n",
       "      <th>WEEK_END</th>\n",
       "      <th>TPER_TEAM</th>\n",
       "      <th>TPER_HOUR</th>\n",
       "      <th>ASS_ASSIGNMENT</th>\n",
       "      <th>ASS_POLE</th>\n",
       "      <th>CSPL_RECEIVED_CALLS</th>\n",
       "      <th>ASSIGNMENT_CODE</th>\n",
       "    </tr>\n",
       "    <tr>\n",
       "      <th>DATE</th>\n",
       "      <th></th>\n",
       "      <th></th>\n",
       "      <th></th>\n",
       "      <th></th>\n",
       "      <th></th>\n",
       "      <th></th>\n",
       "      <th></th>\n",
       "    </tr>\n",
       "  </thead>\n",
       "  <tbody>\n",
       "    <tr>\n",
       "      <th>2011-01-03 09:00:00</th>\n",
       "      <td>0</td>\n",
       "      <td>0</td>\n",
       "      <td>9</td>\n",
       "      <td>Prestataires</td>\n",
       "      <td>0</td>\n",
       "      <td>0</td>\n",
       "      <td>18</td>\n",
       "    </tr>\n",
       "    <tr>\n",
       "      <th>2011-01-03 09:30:00</th>\n",
       "      <td>0</td>\n",
       "      <td>0</td>\n",
       "      <td>9</td>\n",
       "      <td>Prestataires</td>\n",
       "      <td>0</td>\n",
       "      <td>0</td>\n",
       "      <td>18</td>\n",
       "    </tr>\n",
       "  </tbody>\n",
       "</table>\n",
       "</div>"
      ],
      "text/plain": [
       "                     WEEK_END  TPER_TEAM  TPER_HOUR ASS_ASSIGNMENT  ASS_POLE  \\\n",
       "DATE                                                                           \n",
       "2011-01-03 09:00:00         0          0          9   Prestataires         0   \n",
       "2011-01-03 09:30:00         0          0          9   Prestataires         0   \n",
       "\n",
       "                     CSPL_RECEIVED_CALLS  ASSIGNMENT_CODE  \n",
       "DATE                                                       \n",
       "2011-01-03 09:00:00                    0               18  \n",
       "2011-01-03 09:30:00                    0               18  "
      ]
     },
     "execution_count": 76,
     "metadata": {},
     "output_type": "execute_result"
    }
   ],
   "source": [
    "df[df['ASS_ASSIGNMENT']=='Prestataires'][:2]"
   ]
  },
  {
   "cell_type": "code",
   "execution_count": 18,
   "metadata": {
    "collapsed": true
   },
   "outputs": [],
   "source": [
    "import statsmodels.api as sm  \n",
    "from statsmodels.tsa.stattools import acf  \n",
    "from statsmodels.tsa.stattools import pacf"
   ]
  },
  {
   "cell_type": "code",
   "execution_count": 19,
   "metadata": {
    "collapsed": false
   },
   "outputs": [
    {
     "data": {
      "text/plain": [
       "<matplotlib.lines.Line2D at 0xc6843e48>"
      ]
     },
     "execution_count": 19,
     "metadata": {},
     "output_type": "execute_result"
    },
    {
     "data": {
      "image/png": "[encoded data removed]",
      "text/plain": [
       "<matplotlib.figure.Figure at 0x440c4518>"
      ]
     },
     "metadata": {},
     "output_type": "display_data"
    }
   ],
   "source": [
    "\n",
    "df_D_acf = acf(df_D.CSPL_RECEIVED_CALLS.values, nlags = 45)\n",
    "plt.plot(df_D_acf)\n",
    "plt.axhline(y=0,linestyle='--', color = 'black')\n",
    "plt.axhline(y=-1.96/np.sqrt(len(df_D.CSPL_RECEIVED_CALLS.values)),linestyle='--', color = 'red')\n",
    "plt.axhline(y=1.96/np.sqrt(len(df_D.CSPL_RECEIVED_CALLS.values)),linestyle='--', color = 'red')"
   ]
  },
  {
   "cell_type": "code",
   "execution_count": 20,
   "metadata": {
    "collapsed": false
   },
   "outputs": [
    {
     "data": {
      "text/plain": [
       "[<matplotlib.lines.Line2D at 0xe505dbe0>]"
      ]
     },
     "execution_count": 20,
     "metadata": {},
     "output_type": "execute_result"
    },
    {
     "data": {
      "image/png": "[encoded data removed]",
      "text/plain": [
       "<matplotlib.figure.Figure at 0x440c42e8>"
      ]
     },
     "metadata": {},
     "output_type": "display_data"
    }
   ],
   "source": [
    "df_new =pd.DataFrame( df_D['CSPL_RECEIVED_CALLS'].resample('1D').sum())\n",
    "\n",
    "#df_new.resample('1W').mean().plot()\n",
    "m= df_new.resample('1D').sum()\n",
    "plt.plot(df_new[:90])\n",
    "\n"
   ]
  },
  {
   "cell_type": "code",
   "execution_count": 21,
   "metadata": {
    "collapsed": false
   },
   "outputs": [
    {
     "data": {
      "text/html": [
       "<div>\n",
       "<table border=\"1\" class=\"dataframe\">\n",
       "  <thead>\n",
       "    <tr style=\"text-align: right;\">\n",
       "      <th></th>\n",
       "      <th>CSPL_RECEIVED_CALLS</th>\n",
       "    </tr>\n",
       "    <tr>\n",
       "      <th>DATE</th>\n",
       "      <th></th>\n",
       "    </tr>\n",
       "  </thead>\n",
       "  <tbody>\n",
       "    <tr>\n",
       "      <th>2013-12-27</th>\n",
       "      <td>NaN</td>\n",
       "    </tr>\n",
       "    <tr>\n",
       "      <th>2013-12-28</th>\n",
       "      <td>NaN</td>\n",
       "    </tr>\n",
       "    <tr>\n",
       "      <th>2013-12-29</th>\n",
       "      <td>27.0</td>\n",
       "    </tr>\n",
       "    <tr>\n",
       "      <th>2013-12-30</th>\n",
       "      <td>395.0</td>\n",
       "    </tr>\n",
       "    <tr>\n",
       "      <th>2013-12-31</th>\n",
       "      <td>267.0</td>\n",
       "    </tr>\n",
       "  </tbody>\n",
       "</table>\n",
       "</div>"
      ],
      "text/plain": [
       "            CSPL_RECEIVED_CALLS\n",
       "DATE                           \n",
       "2013-12-27                  NaN\n",
       "2013-12-28                  NaN\n",
       "2013-12-29                 27.0\n",
       "2013-12-30                395.0\n",
       "2013-12-31                267.0"
      ]
     },
     "execution_count": 21,
     "metadata": {},
     "output_type": "execute_result"
    }
   ],
   "source": [
    "Y = df_D['CSPL_RECEIVED_CALLS']\n",
    "df_new.tail()"
   ]
  },
  {
   "cell_type": "code",
   "execution_count": 22,
   "metadata": {
    "collapsed": false
   },
   "outputs": [
    {
     "name": "stdout",
     "output_type": "stream",
     "text": [
      "                                 Statespace Model Results                                 \n",
      "==========================================================================================\n",
      "Dep. Variable:                CSPL_RECEIVED_CALLS   No. Observations:                 1096\n",
      "Model:             SARIMAX(1, 0, 1)x(0, 1, 0, 12)   Log Likelihood               -6945.828\n",
      "Date:                            Thu, 12 Jan 2017   AIC                          13897.655\n",
      "Time:                                    14:24:13   BIC                          13912.654\n",
      "Sample:                                01-01-2011   HQIC                         13903.330\n",
      "                                     - 12-31-2013                                         \n",
      "Covariance Type:                              opg                                         \n",
      "==============================================================================\n",
      "                 coef    std err          z      P>|z|      [0.025      0.975]\n",
      "------------------------------------------------------------------------------\n",
      "ar.L1         -0.3752      0.042     -8.846      0.000      -0.458      -0.292\n",
      "ma.L1          0.9293      0.014     67.148      0.000       0.902       0.956\n",
      "sigma2      5.935e+04   3439.328     17.257      0.000    5.26e+04    6.61e+04\n",
      "===================================================================================\n",
      "Ljung-Box (Q):                     3835.58   Jarque-Bera (JB):                22.32\n",
      "Prob(Q):                              0.00   Prob(JB):                         0.00\n",
      "Heteroskedasticity (H):               0.98   Skew:                            -0.34\n",
      "Prob(H) (two-sided):                  0.85   Kurtosis:                         2.84\n",
      "===================================================================================\n",
      "\n",
      "Warnings:\n",
      "[1] Covariance matrix calculated using the outer product of gradients (complex-step).\n"
     ]
    }
   ],
   "source": [
    "Y = df_new['CSPL_RECEIVED_CALLS']\n",
    "mod = sm.tsa.SARIMAX(Y, trend='n', order=(1,0,1), seasonal_order=(0,1,0,12))\n",
    "results = mod.fit()\n",
    "print results.summary()"
   ]
  },
  {
   "cell_type": "code",
   "execution_count": 23,
   "metadata": {
    "collapsed": false
   },
   "outputs": [
    {
     "data": {
      "text/plain": [
       "[<matplotlib.lines.Line2D at 0x1a3aed4a8>]"
      ]
     },
     "execution_count": 23,
     "metadata": {},
     "output_type": "execute_result"
    },
    {
     "data": {
      "image/png": "[encoded data removed]",
      "text/plain": [
       "<matplotlib.figure.Figure at 0x7410e320>"
      ]
     },
     "metadata": {},
     "output_type": "display_data"
    }
   ],
   "source": [
    "#plt.plot(Y)\n",
    "#plt.plot(results.fittedvalues[:60],color='red')\n",
    "#X = pd.DataFrame([df_D['CSPL_RECEIVED_CALLS'],results.fittedvalues]) \n",
    "df_results= pd.DataFrame(results.fittedvalues, columns=['pred_val'])\n",
    "df_res=df_results.reset_index()\n",
    "\n",
    "plt.plot(df_new[950:])\n",
    "#print len(df_new)\n",
    "plt.plot(df_results[950:])\n"
   ]
  },
  {
   "cell_type": "code",
   "execution_count": 24,
   "metadata": {
    "collapsed": false
   },
   "outputs": [
    {
     "data": {
      "text/plain": [
       "\"\\ndf_D['forecast']= results.predict(250, 750, dynamic= True)\\nplt.plot(df_D['forecast'], color='blue')\\nplt.plot(df_D.CSPL_RECEIVED_CALLS[250:750], color='yellow')\\n\""
      ]
     },
     "execution_count": 24,
     "metadata": {},
     "output_type": "execute_result"
    },
    {
     "data": {
      "image/png": "[encoded data removed]",
      "text/plain": [
       "<matplotlib.figure.Figure at 0xd4c35c0>"
      ]
     },
     "metadata": {},
     "output_type": "display_data"
    }
   ],
   "source": [
    "#predict_ci = predict.conf_int()\n",
    "#plt.plot(df_D.CSPL_RECEIVED_CALLS)\n",
    "#plt.plot(results.forecast(100))\n",
    "\n",
    "# Plot predictions\n",
    "predict = results.get_prediction()\n",
    "#predict.predicted_mean.plot(color='red')\n",
    "plt.plot(df_new[1006:1096], color= 'yellow')\n",
    "plt.plot(results.forecast(10))\n",
    "\n",
    "\"\"\"\n",
    "df_D['forecast']= results.predict(250, 750, dynamic= True)\n",
    "plt.plot(df_D['forecast'], color='blue')\n",
    "plt.plot(df_D.CSPL_RECEIVED_CALLS[250:750], color='yellow')\n",
    "\"\"\""
   ]
  },
  {
   "cell_type": "code",
   "execution_count": 57,
   "metadata": {
    "collapsed": false
   },
   "outputs": [
    {
     "data": {
      "text/plain": [
       "PeriodIndex(['2011-01-01 00:00', '2011-01-01 00:30', '2011-01-01 01:00',\n",
       "             '2011-01-01 01:30', '2011-01-01 02:00', '2011-01-01 02:30',\n",
       "             '2011-01-01 03:00', '2011-01-01 03:30', '2011-01-01 04:00',\n",
       "             '2011-01-01 04:30',\n",
       "             ...\n",
       "             '2013-12-31 19:00', '2013-12-31 19:30', '2013-12-31 20:00',\n",
       "             '2013-12-31 20:30', '2013-12-31 21:00', '2013-12-31 21:30',\n",
       "             '2013-12-31 22:00', '2013-12-31 22:30', '2013-12-31 23:00',\n",
       "             '2013-12-31 23:30'],\n",
       "            dtype='int64', name=u'DATE', length=48478, freq='30T')"
      ]
     },
     "execution_count": 57,
     "metadata": {},
     "output_type": "execute_result"
    }
   ],
   "source": [
    "#print df_D.head(), df_results.head()\n",
    "df_D.index"
   ]
  },
  {
   "cell_type": "code",
   "execution_count": 25,
   "metadata": {
    "collapsed": false
   },
   "outputs": [
    {
     "data": {
      "text/html": [
       "<div>\n",
       "<table border=\"1\" class=\"dataframe\">\n",
       "  <thead>\n",
       "    <tr style=\"text-align: right;\">\n",
       "      <th></th>\n",
       "      <th>DATE</th>\n",
       "      <th>pred_val</th>\n",
       "    </tr>\n",
       "  </thead>\n",
       "  <tbody>\n",
       "    <tr>\n",
       "      <th>0</th>\n",
       "      <td>2011-01-01</td>\n",
       "      <td>0.000000</td>\n",
       "    </tr>\n",
       "    <tr>\n",
       "      <th>1</th>\n",
       "      <td>2011-01-02</td>\n",
       "      <td>0.692166</td>\n",
       "    </tr>\n",
       "    <tr>\n",
       "      <th>2</th>\n",
       "      <td>2011-01-03</td>\n",
       "      <td>0.376146</td>\n",
       "    </tr>\n",
       "    <tr>\n",
       "      <th>3</th>\n",
       "      <td>2011-01-04</td>\n",
       "      <td>12.068735</td>\n",
       "    </tr>\n",
       "    <tr>\n",
       "      <th>4</th>\n",
       "      <td>2011-01-05</td>\n",
       "      <td>6.268968</td>\n",
       "    </tr>\n",
       "  </tbody>\n",
       "</table>\n",
       "</div>"
      ],
      "text/plain": [
       "        DATE   pred_val\n",
       "0 2011-01-01   0.000000\n",
       "1 2011-01-02   0.692166\n",
       "2 2011-01-03   0.376146\n",
       "3 2011-01-04  12.068735\n",
       "4 2011-01-05   6.268968"
      ]
     },
     "execution_count": 25,
     "metadata": {},
     "output_type": "execute_result"
    }
   ],
   "source": [
    "df_1=df_D.reset_index()\n",
    "df_1['DAY']=df_1['DATE'].apply(lambda x: x.date())\n",
    "df_1= df_1.rename(columns={'DATE':'DATE_TIME','DAY':'DATE'})\n",
    "\n",
    "#df_1.head()\n",
    "df_res.head()"
   ]
  },
  {
   "cell_type": "code",
   "execution_count": 26,
   "metadata": {
    "collapsed": false
   },
   "outputs": [],
   "source": [
    "#df_combined= pd.merge(df_1,df_res, on='DATE',how='inner')\n",
    "#df_combined.head()\n",
    "#df_combined.head()\n",
    "#df_combined= df_res.join(df_1,on='DATE',how='right',rsuffix='_R')\n",
    "#df_res['DATE']= df_res['DATE'].apply(lambda x: x.to_datetime())\n",
    "df_res['DATE']= df_res['DATE'].astype(str)\n",
    "#df_res['DATE']=pd.to_datetime(df_res['DATE'])\n",
    "\n"
   ]
  },
  {
   "cell_type": "code",
   "execution_count": 27,
   "metadata": {
    "collapsed": false
   },
   "outputs": [],
   "source": [
    "df_res['DATE']= pd.to_datetime(df_res['DATE'], format='%Y/%m/%d')"
   ]
  },
  {
   "cell_type": "code",
   "execution_count": 28,
   "metadata": {
    "collapsed": false
   },
   "outputs": [],
   "source": [
    "df_res['DATE']= df_res['DATE'].astype(str)\n",
    "df_1['DATE']= df_1['DATE'].astype(str)\n"
   ]
  },
  {
   "cell_type": "code",
   "execution_count": 29,
   "metadata": {
    "collapsed": false
   },
   "outputs": [
    {
     "name": "stdout",
     "output_type": "stream",
     "text": [
      "<type 'str'> <type 'str'>\n"
     ]
    }
   ],
   "source": [
    "#df_res['DATE']=df_res['DATE'].apply(lambda x: x.date())\n",
    "print type(df_res.DATE[1]), type(df_1.DATE[1])"
   ]
  },
  {
   "cell_type": "code",
   "execution_count": 30,
   "metadata": {
    "collapsed": false
   },
   "outputs": [
    {
     "data": {
      "text/html": [
       "<div>\n",
       "<table border=\"1\" class=\"dataframe\">\n",
       "  <thead>\n",
       "    <tr style=\"text-align: right;\">\n",
       "      <th></th>\n",
       "      <th>DATE_TIME</th>\n",
       "      <th>WEEK_END</th>\n",
       "      <th>TPER_TEAM</th>\n",
       "      <th>TPER_HOUR</th>\n",
       "      <th>ASS_ASSIGNMENT</th>\n",
       "      <th>ASS_POLE</th>\n",
       "      <th>CSPL_RECEIVED_CALLS</th>\n",
       "      <th>ASSIGNMENT_CODE</th>\n",
       "      <th>DATE</th>\n",
       "      <th>pred_val</th>\n",
       "    </tr>\n",
       "  </thead>\n",
       "  <tbody>\n",
       "    <tr>\n",
       "      <th>0</th>\n",
       "      <td>2011-01-01 00:00:00</td>\n",
       "      <td>1</td>\n",
       "      <td>1</td>\n",
       "      <td>0</td>\n",
       "      <td>Domicile</td>\n",
       "      <td>8</td>\n",
       "      <td>0</td>\n",
       "      <td>3</td>\n",
       "      <td>2011-01-01</td>\n",
       "      <td>0.0</td>\n",
       "    </tr>\n",
       "    <tr>\n",
       "      <th>1</th>\n",
       "      <td>2011-01-01 00:30:00</td>\n",
       "      <td>1</td>\n",
       "      <td>1</td>\n",
       "      <td>0</td>\n",
       "      <td>Domicile</td>\n",
       "      <td>8</td>\n",
       "      <td>0</td>\n",
       "      <td>3</td>\n",
       "      <td>2011-01-01</td>\n",
       "      <td>0.0</td>\n",
       "    </tr>\n",
       "    <tr>\n",
       "      <th>2</th>\n",
       "      <td>2011-01-01 01:00:00</td>\n",
       "      <td>1</td>\n",
       "      <td>1</td>\n",
       "      <td>1</td>\n",
       "      <td>Domicile</td>\n",
       "      <td>8</td>\n",
       "      <td>0</td>\n",
       "      <td>3</td>\n",
       "      <td>2011-01-01</td>\n",
       "      <td>0.0</td>\n",
       "    </tr>\n",
       "    <tr>\n",
       "      <th>3</th>\n",
       "      <td>2011-01-01 01:30:00</td>\n",
       "      <td>1</td>\n",
       "      <td>1</td>\n",
       "      <td>1</td>\n",
       "      <td>Domicile</td>\n",
       "      <td>8</td>\n",
       "      <td>0</td>\n",
       "      <td>3</td>\n",
       "      <td>2011-01-01</td>\n",
       "      <td>0.0</td>\n",
       "    </tr>\n",
       "    <tr>\n",
       "      <th>4</th>\n",
       "      <td>2011-01-01 02:00:00</td>\n",
       "      <td>1</td>\n",
       "      <td>1</td>\n",
       "      <td>2</td>\n",
       "      <td>Domicile</td>\n",
       "      <td>8</td>\n",
       "      <td>0</td>\n",
       "      <td>3</td>\n",
       "      <td>2011-01-01</td>\n",
       "      <td>0.0</td>\n",
       "    </tr>\n",
       "  </tbody>\n",
       "</table>\n",
       "</div>"
      ],
      "text/plain": [
       "            DATE_TIME  WEEK_END  TPER_TEAM  TPER_HOUR ASS_ASSIGNMENT  \\\n",
       "0 2011-01-01 00:00:00         1          1          0       Domicile   \n",
       "1 2011-01-01 00:30:00         1          1          0       Domicile   \n",
       "2 2011-01-01 01:00:00         1          1          1       Domicile   \n",
       "3 2011-01-01 01:30:00         1          1          1       Domicile   \n",
       "4 2011-01-01 02:00:00         1          1          2       Domicile   \n",
       "\n",
       "   ASS_POLE  CSPL_RECEIVED_CALLS  ASSIGNMENT_CODE        DATE  pred_val  \n",
       "0         8                    0                3  2011-01-01       0.0  \n",
       "1         8                    0                3  2011-01-01       0.0  \n",
       "2         8                    0                3  2011-01-01       0.0  \n",
       "3         8                    0                3  2011-01-01       0.0  \n",
       "4         8                    0                3  2011-01-01       0.0  "
      ]
     },
     "execution_count": 30,
     "metadata": {},
     "output_type": "execute_result"
    }
   ],
   "source": [
    "df_combined= pd.merge(df_1,df_res,on='DATE',how='left')\n",
    "df_combined.head()"
   ]
  },
  {
   "cell_type": "code",
   "execution_count": 31,
   "metadata": {
    "collapsed": false
   },
   "outputs": [],
   "source": [
    "df_combined.drop(['ASS_POLE'], axis=1, inplace=True)"
   ]
  },
  {
   "cell_type": "code",
   "execution_count": 32,
   "metadata": {
    "collapsed": false
   },
   "outputs": [
    {
     "data": {
      "text/html": [
       "<div>\n",
       "<table border=\"1\" class=\"dataframe\">\n",
       "  <thead>\n",
       "    <tr style=\"text-align: right;\">\n",
       "      <th></th>\n",
       "      <th>DATE_TIME</th>\n",
       "      <th>WEEK_END</th>\n",
       "      <th>TPER_TEAM</th>\n",
       "      <th>TPER_HOUR</th>\n",
       "      <th>ASS_ASSIGNMENT</th>\n",
       "      <th>CSPL_RECEIVED_CALLS</th>\n",
       "      <th>ASSIGNMENT_CODE</th>\n",
       "      <th>DATE</th>\n",
       "      <th>pred_val</th>\n",
       "    </tr>\n",
       "  </thead>\n",
       "  <tbody>\n",
       "    <tr>\n",
       "      <th>0</th>\n",
       "      <td>2011-01-01 00:00:00</td>\n",
       "      <td>1</td>\n",
       "      <td>1</td>\n",
       "      <td>0</td>\n",
       "      <td>Domicile</td>\n",
       "      <td>0</td>\n",
       "      <td>3</td>\n",
       "      <td>2011-01-01</td>\n",
       "      <td>0.0</td>\n",
       "    </tr>\n",
       "    <tr>\n",
       "      <th>1</th>\n",
       "      <td>2011-01-01 00:30:00</td>\n",
       "      <td>1</td>\n",
       "      <td>1</td>\n",
       "      <td>0</td>\n",
       "      <td>Domicile</td>\n",
       "      <td>0</td>\n",
       "      <td>3</td>\n",
       "      <td>2011-01-01</td>\n",
       "      <td>0.0</td>\n",
       "    </tr>\n",
       "    <tr>\n",
       "      <th>2</th>\n",
       "      <td>2011-01-01 01:00:00</td>\n",
       "      <td>1</td>\n",
       "      <td>1</td>\n",
       "      <td>1</td>\n",
       "      <td>Domicile</td>\n",
       "      <td>0</td>\n",
       "      <td>3</td>\n",
       "      <td>2011-01-01</td>\n",
       "      <td>0.0</td>\n",
       "    </tr>\n",
       "    <tr>\n",
       "      <th>3</th>\n",
       "      <td>2011-01-01 01:30:00</td>\n",
       "      <td>1</td>\n",
       "      <td>1</td>\n",
       "      <td>1</td>\n",
       "      <td>Domicile</td>\n",
       "      <td>0</td>\n",
       "      <td>3</td>\n",
       "      <td>2011-01-01</td>\n",
       "      <td>0.0</td>\n",
       "    </tr>\n",
       "    <tr>\n",
       "      <th>4</th>\n",
       "      <td>2011-01-01 02:00:00</td>\n",
       "      <td>1</td>\n",
       "      <td>1</td>\n",
       "      <td>2</td>\n",
       "      <td>Domicile</td>\n",
       "      <td>0</td>\n",
       "      <td>3</td>\n",
       "      <td>2011-01-01</td>\n",
       "      <td>0.0</td>\n",
       "    </tr>\n",
       "  </tbody>\n",
       "</table>\n",
       "</div>"
      ],
      "text/plain": [
       "            DATE_TIME  WEEK_END  TPER_TEAM  TPER_HOUR ASS_ASSIGNMENT  \\\n",
       "0 2011-01-01 00:00:00         1          1          0       Domicile   \n",
       "1 2011-01-01 00:30:00         1          1          0       Domicile   \n",
       "2 2011-01-01 01:00:00         1          1          1       Domicile   \n",
       "3 2011-01-01 01:30:00         1          1          1       Domicile   \n",
       "4 2011-01-01 02:00:00         1          1          2       Domicile   \n",
       "\n",
       "   CSPL_RECEIVED_CALLS  ASSIGNMENT_CODE        DATE  pred_val  \n",
       "0                    0                3  2011-01-01       0.0  \n",
       "1                    0                3  2011-01-01       0.0  \n",
       "2                    0                3  2011-01-01       0.0  \n",
       "3                    0                3  2011-01-01       0.0  \n",
       "4                    0                3  2011-01-01       0.0  "
      ]
     },
     "execution_count": 32,
     "metadata": {},
     "output_type": "execute_result"
    }
   ],
   "source": [
    "df_combined.head()"
   ]
  },
  {
   "cell_type": "markdown",
   "metadata": {},
   "source": [
    "### KNN"
   ]
  },
  {
   "cell_type": "code",
   "execution_count": 33,
   "metadata": {
    "collapsed": false
   },
   "outputs": [],
   "source": [
    "from sklearn.neighbors import KNeighborsRegressor\n",
    "X = df_combined[['WEEK_END','TPER_TEAM','TPER_HOUR','ASSIGNMENT_CODE','pred_val']]\n",
    "y = df_combined[['CSPL_RECEIVED_CALLS']]"
   ]
  },
  {
   "cell_type": "code",
   "execution_count": 34,
   "metadata": {
    "collapsed": false
   },
   "outputs": [
    {
     "data": {
      "text/plain": [
       "KNeighborsRegressor(algorithm='auto', leaf_size=30, metric='minkowski',\n",
       "          metric_params=None, n_jobs=1, n_neighbors=5, p=2,\n",
       "          weights='distance')"
      ]
     },
     "execution_count": 34,
     "metadata": {},
     "output_type": "execute_result"
    }
   ],
   "source": [
    "nbrs = KNeighborsRegressor(n_neighbors= 5, weights='distance')\n",
    "nbrs.fit(X,y)"
   ]
  },
  {
   "cell_type": "code",
   "execution_count": 35,
   "metadata": {
    "collapsed": false,
    "scrolled": true
   },
   "outputs": [
    {
     "name": "stderr",
     "output_type": "stream",
     "text": [
      "C:\\Anaconda2\\lib\\site-packages\\sklearn\\utils\\validation.py:395: DeprecationWarning: Passing 1d arrays as data is deprecated in 0.17 and will raise ValueError in 0.19. Reshape your data either using X.reshape(-1, 1) if your data has a single feature or X.reshape(1, -1) if it contains a single sample.\n",
      "  DeprecationWarning)\n"
     ]
    },
    {
     "data": {
      "text/plain": [
       "1.0"
      ]
     },
     "execution_count": 35,
     "metadata": {},
     "output_type": "execute_result"
    }
   ],
   "source": [
    "round(nbrs.predict([0,0,21,3,469]),0) "
   ]
  },
  {
   "cell_type": "code",
   "execution_count": 36,
   "metadata": {
    "collapsed": false
   },
   "outputs": [],
   "source": [
    "df_submit = pd.read_csv(\"D:\\Masters_DataSci\\Courses\\Methods_BD\\AXA Challenge\\submission.csv\", delimiter='\\t',names=['DATE','ASS_ASSIGMNENT','prediction'],)"
   ]
  },
  {
   "cell_type": "code",
   "execution_count": 37,
   "metadata": {
    "collapsed": false
   },
   "outputs": [
    {
     "data": {
      "text/html": [
       "<div>\n",
       "<table border=\"1\" class=\"dataframe\">\n",
       "  <thead>\n",
       "    <tr style=\"text-align: right;\">\n",
       "      <th></th>\n",
       "      <th>DATE</th>\n",
       "      <th>ASS_ASSIGMNENT</th>\n",
       "      <th>prediction</th>\n",
       "    </tr>\n",
       "  </thead>\n",
       "  <tbody>\n",
       "    <tr>\n",
       "      <th>0</th>\n",
       "      <td>DATE</td>\n",
       "      <td>ASS_ASSIGNMENT</td>\n",
       "      <td>prediction</td>\n",
       "    </tr>\n",
       "    <tr>\n",
       "      <th>1</th>\n",
       "      <td>2012-12-28 00:00:00.000</td>\n",
       "      <td>CMS</td>\n",
       "      <td>0</td>\n",
       "    </tr>\n",
       "    <tr>\n",
       "      <th>2</th>\n",
       "      <td>2012-12-28 00:00:00.000</td>\n",
       "      <td>Crises</td>\n",
       "      <td>0</td>\n",
       "    </tr>\n",
       "    <tr>\n",
       "      <th>3</th>\n",
       "      <td>2012-12-28 00:00:00.000</td>\n",
       "      <td>Domicile</td>\n",
       "      <td>0</td>\n",
       "    </tr>\n",
       "    <tr>\n",
       "      <th>4</th>\n",
       "      <td>2012-12-28 00:00:00.000</td>\n",
       "      <td>Gestion</td>\n",
       "      <td>0</td>\n",
       "    </tr>\n",
       "  </tbody>\n",
       "</table>\n",
       "</div>"
      ],
      "text/plain": [
       "                      DATE  ASS_ASSIGMNENT  prediction\n",
       "0                     DATE  ASS_ASSIGNMENT  prediction\n",
       "1  2012-12-28 00:00:00.000             CMS           0\n",
       "2  2012-12-28 00:00:00.000          Crises           0\n",
       "3  2012-12-28 00:00:00.000        Domicile           0\n",
       "4  2012-12-28 00:00:00.000         Gestion           0"
      ]
     },
     "execution_count": 37,
     "metadata": {},
     "output_type": "execute_result"
    }
   ],
   "source": [
    "df_submit.head()"
   ]
  },
  {
   "cell_type": "code",
   "execution_count": 543,
   "metadata": {
    "collapsed": false
   },
   "outputs": [],
   "source": [
    "#df_submit = df_submit.drop(df_submit.index[[0]])"
   ]
  },
  {
   "cell_type": "code",
   "execution_count": 38,
   "metadata": {
    "collapsed": false
   },
   "outputs": [
    {
     "data": {
      "text/plain": [
       "str"
      ]
     },
     "execution_count": 38,
     "metadata": {},
     "output_type": "execute_result"
    }
   ],
   "source": [
    "df_submit.head()\n",
    "type(df_submit['DATE'][1])"
   ]
  },
  {
   "cell_type": "code",
   "execution_count": 78,
   "metadata": {
    "collapsed": false
   },
   "outputs": [
    {
     "data": {
      "text/html": [
       "<div>\n",
       "<table border=\"1\" class=\"dataframe\">\n",
       "  <thead>\n",
       "    <tr style=\"text-align: right;\">\n",
       "      <th></th>\n",
       "      <th>DATE</th>\n",
       "      <th>DATE_1</th>\n",
       "      <th>HOUR</th>\n",
       "      <th>TPER_HOUR</th>\n",
       "      <th>MIN</th>\n",
       "      <th>TPER_TEAM</th>\n",
       "      <th>WEEK_END</th>\n",
       "      <th>ASS_ASSIGNMENT</th>\n",
       "      <th>prediction</th>\n",
       "      <th>ASSIGNMENT_CODE</th>\n",
       "    </tr>\n",
       "  </thead>\n",
       "  <tbody>\n",
       "    <tr>\n",
       "      <th>0</th>\n",
       "      <td>2012-12-28 00:00:00.000</td>\n",
       "      <td>12/28/2012</td>\n",
       "      <td>00:00.0</td>\n",
       "      <td>0</td>\n",
       "      <td>0</td>\n",
       "      <td>1</td>\n",
       "      <td>0</td>\n",
       "      <td>CMS</td>\n",
       "      <td>0</td>\n",
       "      <td>1</td>\n",
       "    </tr>\n",
       "    <tr>\n",
       "      <th>1</th>\n",
       "      <td>2012-12-28 00:00:00.000</td>\n",
       "      <td>12/28/2012</td>\n",
       "      <td>00:00.0</td>\n",
       "      <td>0</td>\n",
       "      <td>0</td>\n",
       "      <td>1</td>\n",
       "      <td>0</td>\n",
       "      <td>Crises</td>\n",
       "      <td>0</td>\n",
       "      <td>2</td>\n",
       "    </tr>\n",
       "    <tr>\n",
       "      <th>2</th>\n",
       "      <td>2012-12-28 00:00:00.000</td>\n",
       "      <td>12/28/2012</td>\n",
       "      <td>00:00.0</td>\n",
       "      <td>0</td>\n",
       "      <td>0</td>\n",
       "      <td>1</td>\n",
       "      <td>0</td>\n",
       "      <td>Domicile</td>\n",
       "      <td>0</td>\n",
       "      <td>3</td>\n",
       "    </tr>\n",
       "    <tr>\n",
       "      <th>3</th>\n",
       "      <td>2012-12-28 00:00:00.000</td>\n",
       "      <td>12/28/2012</td>\n",
       "      <td>00:00.0</td>\n",
       "      <td>0</td>\n",
       "      <td>0</td>\n",
       "      <td>1</td>\n",
       "      <td>0</td>\n",
       "      <td>Gestion</td>\n",
       "      <td>0</td>\n",
       "      <td>5</td>\n",
       "    </tr>\n",
       "    <tr>\n",
       "      <th>4</th>\n",
       "      <td>2012-12-28 00:00:00.000</td>\n",
       "      <td>12/28/2012</td>\n",
       "      <td>00:00.0</td>\n",
       "      <td>0</td>\n",
       "      <td>0</td>\n",
       "      <td>1</td>\n",
       "      <td>0</td>\n",
       "      <td>Gestion - Accueil Telephonique</td>\n",
       "      <td>0</td>\n",
       "      <td>6</td>\n",
       "    </tr>\n",
       "  </tbody>\n",
       "</table>\n",
       "</div>"
      ],
      "text/plain": [
       "                      DATE      DATE_1     HOUR  TPER_HOUR  MIN  TPER_TEAM  \\\n",
       "0  2012-12-28 00:00:00.000  12/28/2012  00:00.0          0    0          1   \n",
       "1  2012-12-28 00:00:00.000  12/28/2012  00:00.0          0    0          1   \n",
       "2  2012-12-28 00:00:00.000  12/28/2012  00:00.0          0    0          1   \n",
       "3  2012-12-28 00:00:00.000  12/28/2012  00:00.0          0    0          1   \n",
       "4  2012-12-28 00:00:00.000  12/28/2012  00:00.0          0    0          1   \n",
       "\n",
       "   WEEK_END                  ASS_ASSIGNMENT  prediction  ASSIGNMENT_CODE  \n",
       "0         0                             CMS           0                1  \n",
       "1         0                          Crises           0                2  \n",
       "2         0                        Domicile           0                3  \n",
       "3         0                         Gestion           0                5  \n",
       "4         0  Gestion - Accueil Telephonique           0                6  "
      ]
     },
     "execution_count": 78,
     "metadata": {},
     "output_type": "execute_result"
    }
   ],
   "source": [
    "X_submit = pd.read_csv(\"D:\\Masters_DataSci\\Courses\\Methods_BD\\AXA Challenge\\submission_1.csv\")\n",
    "X_submit['ASSIGNMENT_CODE']= X_submit['ASS_ASSIGNMENT'].apply(lambda x: ASS_ASSIGNMENT[x])\n",
    "X_submit.head()"
   ]
  },
  {
   "cell_type": "code",
   "execution_count": 79,
   "metadata": {
    "collapsed": false
   },
   "outputs": [
    {
     "name": "stdout",
     "output_type": "stream",
     "text": [
      "pred_val    69.4512\n",
      "Name: 2012-12-28 00:00:00, dtype: float64\n"
     ]
    },
    {
     "data": {
      "text/html": [
       "<div>\n",
       "<table border=\"1\" class=\"dataframe\">\n",
       "  <thead>\n",
       "    <tr style=\"text-align: right;\">\n",
       "      <th></th>\n",
       "      <th>DATE</th>\n",
       "      <th>TPER_HOUR</th>\n",
       "      <th>TPER_TEAM</th>\n",
       "      <th>WEEK_END</th>\n",
       "      <th>ASS_ASSIGNMENT</th>\n",
       "      <th>ASSIGNMENT_CODE</th>\n",
       "    </tr>\n",
       "  </thead>\n",
       "  <tbody>\n",
       "    <tr>\n",
       "      <th>0</th>\n",
       "      <td>2012-12-28 00:00:00.000</td>\n",
       "      <td>0</td>\n",
       "      <td>1</td>\n",
       "      <td>0</td>\n",
       "      <td>CMS</td>\n",
       "      <td>1</td>\n",
       "    </tr>\n",
       "    <tr>\n",
       "      <th>1</th>\n",
       "      <td>2012-12-28 00:00:00.000</td>\n",
       "      <td>0</td>\n",
       "      <td>1</td>\n",
       "      <td>0</td>\n",
       "      <td>Crises</td>\n",
       "      <td>2</td>\n",
       "    </tr>\n",
       "    <tr>\n",
       "      <th>2</th>\n",
       "      <td>2012-12-28 00:00:00.000</td>\n",
       "      <td>0</td>\n",
       "      <td>1</td>\n",
       "      <td>0</td>\n",
       "      <td>Domicile</td>\n",
       "      <td>3</td>\n",
       "    </tr>\n",
       "    <tr>\n",
       "      <th>3</th>\n",
       "      <td>2012-12-28 00:00:00.000</td>\n",
       "      <td>0</td>\n",
       "      <td>1</td>\n",
       "      <td>0</td>\n",
       "      <td>Gestion</td>\n",
       "      <td>5</td>\n",
       "    </tr>\n",
       "    <tr>\n",
       "      <th>4</th>\n",
       "      <td>2012-12-28 00:00:00.000</td>\n",
       "      <td>0</td>\n",
       "      <td>1</td>\n",
       "      <td>0</td>\n",
       "      <td>Gestion - Accueil Telephonique</td>\n",
       "      <td>6</td>\n",
       "    </tr>\n",
       "  </tbody>\n",
       "</table>\n",
       "</div>"
      ],
      "text/plain": [
       "                      DATE  TPER_HOUR  TPER_TEAM  WEEK_END  \\\n",
       "0  2012-12-28 00:00:00.000          0          1         0   \n",
       "1  2012-12-28 00:00:00.000          0          1         0   \n",
       "2  2012-12-28 00:00:00.000          0          1         0   \n",
       "3  2012-12-28 00:00:00.000          0          1         0   \n",
       "4  2012-12-28 00:00:00.000          0          1         0   \n",
       "\n",
       "                   ASS_ASSIGNMENT  ASSIGNMENT_CODE  \n",
       "0                             CMS                1  \n",
       "1                          Crises                2  \n",
       "2                        Domicile                3  \n",
       "3                         Gestion                5  \n",
       "4  Gestion - Accueil Telephonique                6  "
      ]
     },
     "execution_count": 79,
     "metadata": {},
     "output_type": "execute_result"
    }
   ],
   "source": [
    "X_submit.drop(['DATE_1','HOUR','MIN','prediction'],1,inplace=True)\n",
    "\n",
    "print df_results.loc['2012-12-28']\n",
    "X_submit.head()"
   ]
  },
  {
   "cell_type": "code",
   "execution_count": 83,
   "metadata": {
    "collapsed": false
   },
   "outputs": [
    {
     "ename": "KeyError",
     "evalue": "'DATE'",
     "output_type": "error",
     "traceback": [
      "\u001b[1;31m---------------------------------------------------------------------------\u001b[0m",
      "\u001b[1;31mKeyError\u001b[0m                                  Traceback (most recent call last)",
      "\u001b[1;32m<ipython-input-83-eced8d47a4ef>\u001b[0m in \u001b[0;36m<module>\u001b[1;34m()\u001b[0m\n\u001b[0;32m      2\u001b[0m \u001b[0mX_submit\u001b[0m\u001b[1;33m[\u001b[0m\u001b[1;34m'DATE_ONLY'\u001b[0m\u001b[1;33m]\u001b[0m\u001b[1;33m=\u001b[0m \u001b[0mX_submit\u001b[0m\u001b[1;33m[\u001b[0m\u001b[1;34m'DATE_ONLY'\u001b[0m\u001b[1;33m]\u001b[0m\u001b[1;33m.\u001b[0m\u001b[0mastype\u001b[0m\u001b[1;33m(\u001b[0m\u001b[0mstr\u001b[0m\u001b[1;33m)\u001b[0m\u001b[1;33m\u001b[0m\u001b[0m\n\u001b[0;32m      3\u001b[0m \u001b[1;32mfor\u001b[0m \u001b[0m_\u001b[0m \u001b[1;32min\u001b[0m \u001b[0mX_submit\u001b[0m\u001b[1;33m:\u001b[0m\u001b[1;33m\u001b[0m\u001b[0m\n\u001b[1;32m----> 4\u001b[1;33m     \u001b[1;32mif\u001b[0m \u001b[1;33m(\u001b[0m\u001b[0mdf_results\u001b[0m\u001b[1;33m[\u001b[0m\u001b[1;34m'DATE'\u001b[0m\u001b[1;33m]\u001b[0m\u001b[1;33m.\u001b[0m\u001b[0mloc\u001b[0m\u001b[1;33m[\u001b[0m\u001b[0mX_submit\u001b[0m\u001b[1;33m.\u001b[0m\u001b[0mDATE\u001b[0m\u001b[1;33m]\u001b[0m\u001b[1;33m)\u001b[0m\u001b[1;33m:\u001b[0m\u001b[1;33m\u001b[0m\u001b[0m\n\u001b[0m\u001b[0;32m      5\u001b[0m         \u001b[0mX_submit\u001b[0m\u001b[1;33m[\u001b[0m\u001b[1;34m'pred_val'\u001b[0m\u001b[1;33m]\u001b[0m\u001b[1;33m=\u001b[0m \u001b[0mX_submit\u001b[0m\u001b[1;33m[\u001b[0m\u001b[1;34m'DATE_ONLY'\u001b[0m\u001b[1;33m]\u001b[0m\u001b[1;33m.\u001b[0m\u001b[0mapply\u001b[0m\u001b[1;33m(\u001b[0m\u001b[1;32mlambda\u001b[0m \u001b[0mx\u001b[0m\u001b[1;33m:\u001b[0m \u001b[0mdf_results\u001b[0m\u001b[1;33m.\u001b[0m\u001b[0mloc\u001b[0m\u001b[1;33m[\u001b[0m\u001b[0mx\u001b[0m\u001b[1;33m]\u001b[0m\u001b[1;33m)\u001b[0m\u001b[1;33m[\u001b[0m\u001b[0mX_submit\u001b[0m\u001b[1;33m[\u001b[0m\u001b[1;34m'ASS_ASSIGNMENT'\u001b[0m\u001b[1;33m]\u001b[0m\u001b[1;33m==\u001b[0m\u001b[1;34m'Domicile'\u001b[0m\u001b[1;33m]\u001b[0m\u001b[1;33m\u001b[0m\u001b[0m\n\u001b[0;32m      6\u001b[0m \u001b[1;31m#X = X_submit[['WEEK_END','TPER_TEAM','TPER_HOUR','pred_val']]\u001b[0m\u001b[1;33m\u001b[0m\u001b[1;33m\u001b[0m\u001b[0m\n",
      "\u001b[1;32mC:\\Anaconda2\\lib\\site-packages\\pandas\\core\\frame.pyc\u001b[0m in \u001b[0;36m__getitem__\u001b[1;34m(self, key)\u001b[0m\n\u001b[0;32m   1995\u001b[0m             \u001b[1;32mreturn\u001b[0m \u001b[0mself\u001b[0m\u001b[1;33m.\u001b[0m\u001b[0m_getitem_multilevel\u001b[0m\u001b[1;33m(\u001b[0m\u001b[0mkey\u001b[0m\u001b[1;33m)\u001b[0m\u001b[1;33m\u001b[0m\u001b[0m\n\u001b[0;32m   1996\u001b[0m         \u001b[1;32melse\u001b[0m\u001b[1;33m:\u001b[0m\u001b[1;33m\u001b[0m\u001b[0m\n\u001b[1;32m-> 1997\u001b[1;33m             \u001b[1;32mreturn\u001b[0m \u001b[0mself\u001b[0m\u001b[1;33m.\u001b[0m\u001b[0m_getitem_column\u001b[0m\u001b[1;33m(\u001b[0m\u001b[0mkey\u001b[0m\u001b[1;33m)\u001b[0m\u001b[1;33m\u001b[0m\u001b[0m\n\u001b[0m\u001b[0;32m   1998\u001b[0m \u001b[1;33m\u001b[0m\u001b[0m\n\u001b[0;32m   1999\u001b[0m     \u001b[1;32mdef\u001b[0m \u001b[0m_getitem_column\u001b[0m\u001b[1;33m(\u001b[0m\u001b[0mself\u001b[0m\u001b[1;33m,\u001b[0m \u001b[0mkey\u001b[0m\u001b[1;33m)\u001b[0m\u001b[1;33m:\u001b[0m\u001b[1;33m\u001b[0m\u001b[0m\n",
      "\u001b[1;32mC:\\Anaconda2\\lib\\site-packages\\pandas\\core\\frame.pyc\u001b[0m in \u001b[0;36m_getitem_column\u001b[1;34m(self, key)\u001b[0m\n\u001b[0;32m   2002\u001b[0m         \u001b[1;31m# get column\u001b[0m\u001b[1;33m\u001b[0m\u001b[1;33m\u001b[0m\u001b[0m\n\u001b[0;32m   2003\u001b[0m         \u001b[1;32mif\u001b[0m \u001b[0mself\u001b[0m\u001b[1;33m.\u001b[0m\u001b[0mcolumns\u001b[0m\u001b[1;33m.\u001b[0m\u001b[0mis_unique\u001b[0m\u001b[1;33m:\u001b[0m\u001b[1;33m\u001b[0m\u001b[0m\n\u001b[1;32m-> 2004\u001b[1;33m             \u001b[1;32mreturn\u001b[0m \u001b[0mself\u001b[0m\u001b[1;33m.\u001b[0m\u001b[0m_get_item_cache\u001b[0m\u001b[1;33m(\u001b[0m\u001b[0mkey\u001b[0m\u001b[1;33m)\u001b[0m\u001b[1;33m\u001b[0m\u001b[0m\n\u001b[0m\u001b[0;32m   2005\u001b[0m \u001b[1;33m\u001b[0m\u001b[0m\n\u001b[0;32m   2006\u001b[0m         \u001b[1;31m# duplicate columns & possible reduce dimensionality\u001b[0m\u001b[1;33m\u001b[0m\u001b[1;33m\u001b[0m\u001b[0m\n",
      "\u001b[1;32mC:\\Anaconda2\\lib\\site-packages\\pandas\\core\\generic.pyc\u001b[0m in \u001b[0;36m_get_item_cache\u001b[1;34m(self, item)\u001b[0m\n\u001b[0;32m   1348\u001b[0m         \u001b[0mres\u001b[0m \u001b[1;33m=\u001b[0m \u001b[0mcache\u001b[0m\u001b[1;33m.\u001b[0m\u001b[0mget\u001b[0m\u001b[1;33m(\u001b[0m\u001b[0mitem\u001b[0m\u001b[1;33m)\u001b[0m\u001b[1;33m\u001b[0m\u001b[0m\n\u001b[0;32m   1349\u001b[0m         \u001b[1;32mif\u001b[0m \u001b[0mres\u001b[0m \u001b[1;32mis\u001b[0m \u001b[0mNone\u001b[0m\u001b[1;33m:\u001b[0m\u001b[1;33m\u001b[0m\u001b[0m\n\u001b[1;32m-> 1350\u001b[1;33m             \u001b[0mvalues\u001b[0m \u001b[1;33m=\u001b[0m \u001b[0mself\u001b[0m\u001b[1;33m.\u001b[0m\u001b[0m_data\u001b[0m\u001b[1;33m.\u001b[0m\u001b[0mget\u001b[0m\u001b[1;33m(\u001b[0m\u001b[0mitem\u001b[0m\u001b[1;33m)\u001b[0m\u001b[1;33m\u001b[0m\u001b[0m\n\u001b[0m\u001b[0;32m   1351\u001b[0m             \u001b[0mres\u001b[0m \u001b[1;33m=\u001b[0m \u001b[0mself\u001b[0m\u001b[1;33m.\u001b[0m\u001b[0m_box_item_values\u001b[0m\u001b[1;33m(\u001b[0m\u001b[0mitem\u001b[0m\u001b[1;33m,\u001b[0m \u001b[0mvalues\u001b[0m\u001b[1;33m)\u001b[0m\u001b[1;33m\u001b[0m\u001b[0m\n\u001b[0;32m   1352\u001b[0m             \u001b[0mcache\u001b[0m\u001b[1;33m[\u001b[0m\u001b[0mitem\u001b[0m\u001b[1;33m]\u001b[0m \u001b[1;33m=\u001b[0m \u001b[0mres\u001b[0m\u001b[1;33m\u001b[0m\u001b[0m\n",
      "\u001b[1;32mC:\\Anaconda2\\lib\\site-packages\\pandas\\core\\internals.pyc\u001b[0m in \u001b[0;36mget\u001b[1;34m(self, item, fastpath)\u001b[0m\n\u001b[0;32m   3288\u001b[0m \u001b[1;33m\u001b[0m\u001b[0m\n\u001b[0;32m   3289\u001b[0m             \u001b[1;32mif\u001b[0m \u001b[1;32mnot\u001b[0m \u001b[0misnull\u001b[0m\u001b[1;33m(\u001b[0m\u001b[0mitem\u001b[0m\u001b[1;33m)\u001b[0m\u001b[1;33m:\u001b[0m\u001b[1;33m\u001b[0m\u001b[0m\n\u001b[1;32m-> 3290\u001b[1;33m                 \u001b[0mloc\u001b[0m \u001b[1;33m=\u001b[0m \u001b[0mself\u001b[0m\u001b[1;33m.\u001b[0m\u001b[0mitems\u001b[0m\u001b[1;33m.\u001b[0m\u001b[0mget_loc\u001b[0m\u001b[1;33m(\u001b[0m\u001b[0mitem\u001b[0m\u001b[1;33m)\u001b[0m\u001b[1;33m\u001b[0m\u001b[0m\n\u001b[0m\u001b[0;32m   3291\u001b[0m             \u001b[1;32melse\u001b[0m\u001b[1;33m:\u001b[0m\u001b[1;33m\u001b[0m\u001b[0m\n\u001b[0;32m   3292\u001b[0m                 \u001b[0mindexer\u001b[0m \u001b[1;33m=\u001b[0m \u001b[0mnp\u001b[0m\u001b[1;33m.\u001b[0m\u001b[0marange\u001b[0m\u001b[1;33m(\u001b[0m\u001b[0mlen\u001b[0m\u001b[1;33m(\u001b[0m\u001b[0mself\u001b[0m\u001b[1;33m.\u001b[0m\u001b[0mitems\u001b[0m\u001b[1;33m)\u001b[0m\u001b[1;33m)\u001b[0m\u001b[1;33m[\u001b[0m\u001b[0misnull\u001b[0m\u001b[1;33m(\u001b[0m\u001b[0mself\u001b[0m\u001b[1;33m.\u001b[0m\u001b[0mitems\u001b[0m\u001b[1;33m)\u001b[0m\u001b[1;33m]\u001b[0m\u001b[1;33m\u001b[0m\u001b[0m\n",
      "\u001b[1;32mC:\\Anaconda2\\lib\\site-packages\\pandas\\indexes\\base.pyc\u001b[0m in \u001b[0;36mget_loc\u001b[1;34m(self, key, method, tolerance)\u001b[0m\n\u001b[0;32m   1945\u001b[0m                 \u001b[1;32mreturn\u001b[0m \u001b[0mself\u001b[0m\u001b[1;33m.\u001b[0m\u001b[0m_engine\u001b[0m\u001b[1;33m.\u001b[0m\u001b[0mget_loc\u001b[0m\u001b[1;33m(\u001b[0m\u001b[0mkey\u001b[0m\u001b[1;33m)\u001b[0m\u001b[1;33m\u001b[0m\u001b[0m\n\u001b[0;32m   1946\u001b[0m             \u001b[1;32mexcept\u001b[0m \u001b[0mKeyError\u001b[0m\u001b[1;33m:\u001b[0m\u001b[1;33m\u001b[0m\u001b[0m\n\u001b[1;32m-> 1947\u001b[1;33m                 \u001b[1;32mreturn\u001b[0m \u001b[0mself\u001b[0m\u001b[1;33m.\u001b[0m\u001b[0m_engine\u001b[0m\u001b[1;33m.\u001b[0m\u001b[0mget_loc\u001b[0m\u001b[1;33m(\u001b[0m\u001b[0mself\u001b[0m\u001b[1;33m.\u001b[0m\u001b[0m_maybe_cast_indexer\u001b[0m\u001b[1;33m(\u001b[0m\u001b[0mkey\u001b[0m\u001b[1;33m)\u001b[0m\u001b[1;33m)\u001b[0m\u001b[1;33m\u001b[0m\u001b[0m\n\u001b[0m\u001b[0;32m   1948\u001b[0m \u001b[1;33m\u001b[0m\u001b[0m\n\u001b[0;32m   1949\u001b[0m         \u001b[0mindexer\u001b[0m \u001b[1;33m=\u001b[0m \u001b[0mself\u001b[0m\u001b[1;33m.\u001b[0m\u001b[0mget_indexer\u001b[0m\u001b[1;33m(\u001b[0m\u001b[1;33m[\u001b[0m\u001b[0mkey\u001b[0m\u001b[1;33m]\u001b[0m\u001b[1;33m,\u001b[0m \u001b[0mmethod\u001b[0m\u001b[1;33m=\u001b[0m\u001b[0mmethod\u001b[0m\u001b[1;33m,\u001b[0m \u001b[0mtolerance\u001b[0m\u001b[1;33m=\u001b[0m\u001b[0mtolerance\u001b[0m\u001b[1;33m)\u001b[0m\u001b[1;33m\u001b[0m\u001b[0m\n",
      "\u001b[1;32mpandas\\index.pyx\u001b[0m in \u001b[0;36mpandas.index.IndexEngine.get_loc (pandas\\index.c:4154)\u001b[1;34m()\u001b[0m\n",
      "\u001b[1;32mpandas\\index.pyx\u001b[0m in \u001b[0;36mpandas.index.IndexEngine.get_loc (pandas\\index.c:4018)\u001b[1;34m()\u001b[0m\n",
      "\u001b[1;32mpandas\\hashtable.pyx\u001b[0m in \u001b[0;36mpandas.hashtable.PyObjectHashTable.get_item (pandas\\hashtable.c:12368)\u001b[1;34m()\u001b[0m\n",
      "\u001b[1;32mpandas\\hashtable.pyx\u001b[0m in \u001b[0;36mpandas.hashtable.PyObjectHashTable.get_item (pandas\\hashtable.c:12322)\u001b[1;34m()\u001b[0m\n",
      "\u001b[1;31mKeyError\u001b[0m: 'DATE'"
     ]
    }
   ],
   "source": [
    "X_submit['DATE_ONLY']= pd.to_datetime(X_submit['DATE'], format='%Y/%m/%d')\n",
    "X_submit['DATE_ONLY']= X_submit['DATE_ONLY'].astype(str)\n",
    "for _ in X_submit:\n",
    "    if (df_results['DATE'].loc[X_submit['DATE]):\n",
    "        X_submit['pred_val']= X_submit['DATE_ONLY'].apply(lambda x: df_results.loc[x])[X_submit['ASS_ASSIGNMENT']=='Domicile']\n",
    "#X = X_submit[['WEEK_END','TPER_TEAM','TPER_HOUR','pred_val']]\n",
    "#y = df_combined['CSPL_RECEIVED_CALLS']\n"
   ]
  },
  {
   "cell_type": "code",
   "execution_count": 489,
   "metadata": {
    "collapsed": false
   },
   "outputs": [
    {
     "data": {
      "text/plain": [
       "pred_val    69.4512\n",
       "Name: 2012-12-28, dtype: float64"
      ]
     },
     "execution_count": 489,
     "metadata": {},
     "output_type": "execute_result"
    }
   ],
   "source": [
    "df_results.loc[X_submit['DATE_ONLY'][1]]\n"
   ]
  },
  {
   "cell_type": "code",
   "execution_count": 498,
   "metadata": {
    "collapsed": false
   },
   "outputs": [],
   "source": [
    "X = X_submit[['WEEK_END','TPER_TEAM','TPER_HOUR','pred_val']]\n",
    "#nbrs.predict([X_submit.WEEK_END[1:10],X_submit.TPER_TEAM[1],X_submit.TPER_HOUR[1],X_submit.pred_val[1]])\n"
   ]
  },
  {
   "cell_type": "code",
   "execution_count": 501,
   "metadata": {
    "collapsed": false
   },
   "outputs": [],
   "source": [
    "X= np.array(X)"
   ]
  },
  {
   "cell_type": "code",
   "execution_count": 518,
   "metadata": {
    "collapsed": false
   },
   "outputs": [],
   "source": [
    "Y= nbrs.predict(X)\n",
    "Y = [round(n,0) for n in Y]\n",
    "Y = pd.DataFrame(Y)\n",
    "Y.to_csv('D:\\Masters_DataSci\\Courses\\Methods_BD\\AXA Challenge\\submission_4.csv')"
   ]
  },
  {
   "cell_type": "code",
   "execution_count": 506,
   "metadata": {
    "collapsed": false
   },
   "outputs": [
    {
     "ename": "TypeError",
     "evalue": "only length-1 arrays can be converted to Python scalars",
     "output_type": "error",
     "traceback": [
      "\u001b[1;31m---------------------------------------------------------------------------\u001b[0m",
      "\u001b[1;31mTypeError\u001b[0m                                 Traceback (most recent call last)",
      "\u001b[1;32m<ipython-input-506-e49862e98486>\u001b[0m in \u001b[0;36m<module>\u001b[1;34m()\u001b[0m\n\u001b[1;32m----> 1\u001b[1;33m \u001b[0mdf_submission\u001b[0m\u001b[1;33m[\u001b[0m\u001b[1;34m'prediction'\u001b[0m\u001b[1;33m]\u001b[0m\u001b[1;33m=\u001b[0m \u001b[0mround\u001b[0m\u001b[1;33m(\u001b[0m\u001b[0mnbrs\u001b[0m\u001b[1;33m.\u001b[0m\u001b[0mpredict\u001b[0m\u001b[1;33m(\u001b[0m\u001b[0mX\u001b[0m\u001b[1;33m[\u001b[0m\u001b[1;33m:\u001b[0m\u001b[1;36m5\u001b[0m\u001b[1;33m]\u001b[0m\u001b[1;33m)\u001b[0m\u001b[1;33m,\u001b[0m\u001b[1;36m0\u001b[0m\u001b[1;33m)\u001b[0m\u001b[1;33m\u001b[0m\u001b[0m\n\u001b[0m",
      "\u001b[1;31mTypeError\u001b[0m: only length-1 arrays can be converted to Python scalars"
     ]
    }
   ],
   "source": [
    "df_submission['prediction']= df_submission['prediction'].apply(lambda x: x= round(nbrs.predict(X[:5]),0)"
   ]
  },
  {
   "cell_type": "code",
   "execution_count": null,
   "metadata": {
    "collapsed": true
   },
   "outputs": [],
   "source": []
  }
 ],
 "metadata": {
  "anaconda-cloud": {},
  "kernelspec": {
   "display_name": "Python [Root]",
   "language": "python",
   "name": "Python [Root]"
  },
  "language_info": {
   "codemirror_mode": {
    "name": "ipython",
    "version": 3
   },
   "file_extension": ".py",
   "mimetype": "text/x-python",
   "name": "python",
   "nbconvert_exporter": "python",
   "pygments_lexer": "ipython3",
   "version": "3.5.2"
  }
 },
 "nbformat": 4,
 "nbformat_minor": 0
}
