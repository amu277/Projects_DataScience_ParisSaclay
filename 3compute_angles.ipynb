{
 "cells": [
  {
   "cell_type": "markdown",
   "metadata": {},
   "source": [
    "#### Import data"
   ]
  },
  {
   "cell_type": "code",
   "execution_count": 1,
   "metadata": {
    "collapsed": true
   },
   "outputs": [],
   "source": [
    "# Import data\n",
    "import h5py\n",
    "from __future__ import division\n",
    "import math\n",
    "import pylab\n",
    "import numpy as np\n",
    "import pandas as pd\n",
    "from pykalman import KalmanFilter\n",
    "import matplotlib.pyplot as plt\n",
    "import pandas as pd\n",
    "\n",
    "# full dataset\n",
    "h5f = h5py.File('data_full_brushing.h5', 'r')\n",
    "\n",
    "ds = {}\n",
    "ls = {}\n",
    "\n",
    "keys = list(h5f['keys'])\n",
    "user_id = list(h5f['user_id'])\n",
    "\n",
    "for key in keys:\n",
    "    #print(key)\n",
    "    #print('data_' + str(key) in list(h5f.keys()))\n",
    "    ds[key] = np.array(h5f['data_' + str(key)])\n",
    "    ls[key] = np.array(h5f['labels_' + str(key)])"
   ]
  },
  {
   "cell_type": "code",
   "execution_count": 2,
   "metadata": {},
   "outputs": [
    {
     "name": "stdout",
     "output_type": "stream",
     "text": [
      "[1000, 1500, 1750, 2000, 2250, 2500, 2750, 3000, 3250, 3500, 3750, 4000, 4250, 4500, 4750, 5000, 5250, 5500, 5750, 6000, 6250, 6500, 6750, 7000, 7250, 7500, 7750, 8000, 8250, 8500, 8750, 9000, 9250, 9750]\n"
     ]
    }
   ],
   "source": [
    "print(sorted(keys))"
   ]
  },
  {
   "cell_type": "code",
   "execution_count": 3,
   "metadata": {},
   "outputs": [
    {
     "data": {
      "text/plain": [
       "((1, 1000, 13), (1, 1000, 17))"
      ]
     },
     "execution_count": 3,
     "metadata": {},
     "output_type": "execute_result"
    }
   ],
   "source": [
    "n = 1000 # dataset number\n",
    "ds[n].shape, ls[n].shape"
   ]
  },
  {
   "cell_type": "markdown",
   "metadata": {},
   "source": [
    "#### Create initial dataframe"
   ]
  },
  {
   "cell_type": "code",
   "execution_count": 4,
   "metadata": {},
   "outputs": [
    {
     "data": {
      "text/html": [
       "<div>\n",
       "<table border=\"1\" class=\"dataframe\">\n",
       "  <thead>\n",
       "    <tr style=\"text-align: right;\">\n",
       "      <th></th>\n",
       "      <th>acc_x</th>\n",
       "      <th>acc_y</th>\n",
       "      <th>acc_z</th>\n",
       "      <th>gyr_x</th>\n",
       "      <th>gyr_y</th>\n",
       "      <th>gyr_z</th>\n",
       "      <th>grav_1</th>\n",
       "      <th>grav_2</th>\n",
       "      <th>grav_3</th>\n",
       "      <th>mag_x</th>\n",
       "      <th>mag_y</th>\n",
       "      <th>mag_z</th>\n",
       "      <th>time</th>\n",
       "      <th>ts</th>\n",
       "      <th>zone_nbr</th>\n",
       "    </tr>\n",
       "  </thead>\n",
       "  <tbody>\n",
       "    <tr>\n",
       "      <th>995</th>\n",
       "      <td>7822.0</td>\n",
       "      <td>-542.0</td>\n",
       "      <td>6233.0</td>\n",
       "      <td>207.0</td>\n",
       "      <td>149.0</td>\n",
       "      <td>-169.0</td>\n",
       "      <td>-773.025385</td>\n",
       "      <td>203.605389</td>\n",
       "      <td>27.617926</td>\n",
       "      <td>0.0</td>\n",
       "      <td>996.0</td>\n",
       "      <td>91.0</td>\n",
       "      <td>18.0</td>\n",
       "      <td>995</td>\n",
       "      <td>9</td>\n",
       "    </tr>\n",
       "    <tr>\n",
       "      <th>996</th>\n",
       "      <td>5754.0</td>\n",
       "      <td>-207.0</td>\n",
       "      <td>7516.0</td>\n",
       "      <td>296.0</td>\n",
       "      <td>251.0</td>\n",
       "      <td>-46.0</td>\n",
       "      <td>-763.832742</td>\n",
       "      <td>185.077043</td>\n",
       "      <td>42.849349</td>\n",
       "      <td>0.0</td>\n",
       "      <td>997.0</td>\n",
       "      <td>91.0</td>\n",
       "      <td>18.0</td>\n",
       "      <td>996</td>\n",
       "      <td>9</td>\n",
       "    </tr>\n",
       "    <tr>\n",
       "      <th>997</th>\n",
       "      <td>4620.0</td>\n",
       "      <td>667.0</td>\n",
       "      <td>7987.0</td>\n",
       "      <td>416.0</td>\n",
       "      <td>208.0</td>\n",
       "      <td>45.0</td>\n",
       "      <td>-767.380127</td>\n",
       "      <td>202.783033</td>\n",
       "      <td>34.080055</td>\n",
       "      <td>0.0</td>\n",
       "      <td>998.0</td>\n",
       "      <td>91.0</td>\n",
       "      <td>18.0</td>\n",
       "      <td>997</td>\n",
       "      <td>9</td>\n",
       "    </tr>\n",
       "    <tr>\n",
       "      <th>998</th>\n",
       "      <td>1274.0</td>\n",
       "      <td>1118.0</td>\n",
       "      <td>8844.0</td>\n",
       "      <td>553.0</td>\n",
       "      <td>141.0</td>\n",
       "      <td>-241.0</td>\n",
       "      <td>-775.912573</td>\n",
       "      <td>200.886825</td>\n",
       "      <td>35.219903</td>\n",
       "      <td>0.0</td>\n",
       "      <td>999.0</td>\n",
       "      <td>91.0</td>\n",
       "      <td>18.0</td>\n",
       "      <td>998</td>\n",
       "      <td>9</td>\n",
       "    </tr>\n",
       "    <tr>\n",
       "      <th>999</th>\n",
       "      <td>778.0</td>\n",
       "      <td>1535.0</td>\n",
       "      <td>8835.0</td>\n",
       "      <td>153.0</td>\n",
       "      <td>240.0</td>\n",
       "      <td>-419.0</td>\n",
       "      <td>-775.593629</td>\n",
       "      <td>197.089547</td>\n",
       "      <td>35.373639</td>\n",
       "      <td>0.0</td>\n",
       "      <td>1000.0</td>\n",
       "      <td>91.0</td>\n",
       "      <td>18.0</td>\n",
       "      <td>999</td>\n",
       "      <td>9</td>\n",
       "    </tr>\n",
       "  </tbody>\n",
       "</table>\n",
       "</div>"
      ],
      "text/plain": [
       "      acc_x   acc_y   acc_z  gyr_x  gyr_y  gyr_z      grav_1      grav_2  \\\n",
       "995  7822.0  -542.0  6233.0  207.0  149.0 -169.0 -773.025385  203.605389   \n",
       "996  5754.0  -207.0  7516.0  296.0  251.0  -46.0 -763.832742  185.077043   \n",
       "997  4620.0   667.0  7987.0  416.0  208.0   45.0 -767.380127  202.783033   \n",
       "998  1274.0  1118.0  8844.0  553.0  141.0 -241.0 -775.912573  200.886825   \n",
       "999   778.0  1535.0  8835.0  153.0  240.0 -419.0 -775.593629  197.089547   \n",
       "\n",
       "        grav_3  mag_x   mag_y  mag_z  time   ts  zone_nbr  \n",
       "995  27.617926    0.0   996.0   91.0  18.0  995         9  \n",
       "996  42.849349    0.0   997.0   91.0  18.0  996         9  \n",
       "997  34.080055    0.0   998.0   91.0  18.0  997         9  \n",
       "998  35.219903    0.0   999.0   91.0  18.0  998         9  \n",
       "999  35.373639    0.0  1000.0   91.0  18.0  999         9  "
      ]
     },
     "execution_count": 4,
     "metadata": {},
     "output_type": "execute_result"
    }
   ],
   "source": [
    "# Create initial dataframe\n",
    "\n",
    "X_train_df = pd.DataFrame(ds[n][0])               \n",
    "X_train_df.columns = ['acc_x', 'acc_y', 'acc_z', 'gyr_x', 'gyr_y', 'gyr_z', 'grav_1', 'grav_2', 'grav_3', 'mag_x', 'mag_y', 'mag_z', 'time']\n",
    "X_train_df['ts'] = X_train_df.index\n",
    "\n",
    "# Append zone data / labels\n",
    "\n",
    "zones = []\n",
    "\n",
    "for row in range (0, ls[n][0].shape[0]):\n",
    "    lss= ls[n][0][row]\n",
    "    z = next(i for i,v in enumerate(lss) if v > 0)\n",
    "    zones.append(z)\n",
    "# print(zones)\n",
    "\n",
    "y_train_df = pd.DataFrame(zones)\n",
    "y_train_df.columns = ['zone_nbr']\n",
    "y_train_df['ts'] = y_train_df.index\n",
    "\n",
    "# Combine x & y training dataset \n",
    "df = X_train_df.merge(y_train_df, how = 'inner', on = 'ts')\n",
    "\n",
    "df.tail()"
   ]
  },
  {
   "cell_type": "markdown",
   "metadata": {},
   "source": [
    "#### Run calculations"
   ]
  },
  {
   "cell_type": "code",
   "execution_count": 5,
   "metadata": {},
   "outputs": [],
   "source": [
    "from prop_defs import transform_units, angles_comp, kalman_filter, mag_yaw\n",
    "\n",
    "def run_calcs(df):\n",
    "\n",
    "    # Apply calibrations and sensitivity\n",
    "    pdf = transform_units(df, 1,1,1) # acc, gyr, mag calibrated\n",
    "\n",
    "    # Compute euler angles\n",
    "    cdf = angles_comp(pdf, 50) # 50 Hz\n",
    "    cdf['ts'] = cdf.index\n",
    "\n",
    "    # Kalman filter\n",
    "    kdf = kalman_filter(cdf, 1, 50) # vibration on, 50 Hz\n",
    "\n",
    "    # Tilt-compensated yaw computation with magnetometer\n",
    "    vals_df = mag_yaw(kdf, pdf) # kalman results, data with magnetometer values\n",
    "    vals_df['ts'] = vals_df.index # time index\n",
    "\n",
    "    # View dataframe\n",
    "    vals_df = pd.merge(vals_df, cdf[['acc_angle_z', 'ts']], how = 'inner', on = 'ts') # Optional step, add tilt angle\n",
    "    \n",
    "    return vals_df"
   ]
  },
  {
   "cell_type": "code",
   "execution_count": 6,
   "metadata": {},
   "outputs": [
    {
     "name": "stdout",
     "output_type": "stream",
     "text": [
      "Wall time: 12.5 s\n"
     ]
    },
    {
     "data": {
      "text/plain": [
       "(1000, 15)"
      ]
     },
     "execution_count": 6,
     "metadata": {},
     "output_type": "execute_result"
    }
   ],
   "source": [
    "%time vals_df = run_calcs(df)\n",
    "vals_df.shape"
   ]
  },
  {
   "cell_type": "code",
   "execution_count": 8,
   "metadata": {},
   "outputs": [
    {
     "data": {
      "text/html": [
       "<div>\n",
       "<table border=\"1\" class=\"dataframe\">\n",
       "  <thead>\n",
       "    <tr style=\"text-align: right;\">\n",
       "      <th></th>\n",
       "      <th>acc_angle_x</th>\n",
       "      <th>gyr_roll_x</th>\n",
       "      <th>kalman_roll</th>\n",
       "      <th>acc_angle_y</th>\n",
       "      <th>gyr_pitch_y</th>\n",
       "      <th>kalman_pitch</th>\n",
       "      <th>yaw</th>\n",
       "      <th>Xh</th>\n",
       "      <th>Yh</th>\n",
       "      <th>mag_x_norm</th>\n",
       "      <th>mag_y_norm</th>\n",
       "      <th>mag_z_norm</th>\n",
       "      <th>yaw_simple</th>\n",
       "      <th>ts</th>\n",
       "      <th>acc_angle_z</th>\n",
       "    </tr>\n",
       "  </thead>\n",
       "  <tbody>\n",
       "    <tr>\n",
       "      <th>995</th>\n",
       "      <td>-4.620872</td>\n",
       "      <td>-0.61762</td>\n",
       "      <td>4.361264</td>\n",
       "      <td>-51.345012</td>\n",
       "      <td>-0.33438</td>\n",
       "      <td>-25.277177</td>\n",
       "      <td>91.741730</td>\n",
       "      <td>-22.538444</td>\n",
       "      <td>-741.193869</td>\n",
       "      <td>0.0</td>\n",
       "      <td>0.995852</td>\n",
       "      <td>0.090986</td>\n",
       "      <td>90.0</td>\n",
       "      <td>995</td>\n",
       "      <td>31.893224</td>\n",
       "    </tr>\n",
       "    <tr>\n",
       "      <th>996</th>\n",
       "      <td>-1.533327</td>\n",
       "      <td>-0.62354</td>\n",
       "      <td>3.690316</td>\n",
       "      <td>-37.425985</td>\n",
       "      <td>-0.33940</td>\n",
       "      <td>-25.615955</td>\n",
       "      <td>91.744575</td>\n",
       "      <td>-22.605371</td>\n",
       "      <td>-742.181814</td>\n",
       "      <td>0.0</td>\n",
       "      <td>0.995860</td>\n",
       "      <td>0.090896</td>\n",
       "      <td>90.0</td>\n",
       "      <td>996</td>\n",
       "      <td>38.443884</td>\n",
       "    </tr>\n",
       "    <tr>\n",
       "      <th>997</th>\n",
       "      <td>4.696172</td>\n",
       "      <td>-0.63186</td>\n",
       "      <td>3.907855</td>\n",
       "      <td>-29.960586</td>\n",
       "      <td>-0.34356</td>\n",
       "      <td>-25.710805</td>\n",
       "      <td>91.747554</td>\n",
       "      <td>-22.674118</td>\n",
       "      <td>-743.169179</td>\n",
       "      <td>0.0</td>\n",
       "      <td>0.995869</td>\n",
       "      <td>0.090806</td>\n",
       "      <td>90.0</td>\n",
       "      <td>997</td>\n",
       "      <td>40.806138</td>\n",
       "    </tr>\n",
       "    <tr>\n",
       "      <th>998</th>\n",
       "      <td>7.197352</td>\n",
       "      <td>-0.64292</td>\n",
       "      <td>4.429804</td>\n",
       "      <td>-8.133355</td>\n",
       "      <td>-0.34638</td>\n",
       "      <td>-25.084237</td>\n",
       "      <td>91.750698</td>\n",
       "      <td>-22.745072</td>\n",
       "      <td>-744.155074</td>\n",
       "      <td>0.0</td>\n",
       "      <td>0.995877</td>\n",
       "      <td>0.090716</td>\n",
       "      <td>90.0</td>\n",
       "      <td>998</td>\n",
       "      <td>44.483321</td>\n",
       "    </tr>\n",
       "    <tr>\n",
       "      <th>999</th>\n",
       "      <td>9.852483</td>\n",
       "      <td>-0.64598</td>\n",
       "      <td>5.054773</td>\n",
       "      <td>-4.958516</td>\n",
       "      <td>-0.35118</td>\n",
       "      <td>-24.342809</td>\n",
       "      <td>91.754025</td>\n",
       "      <td>-22.818450</td>\n",
       "      <td>-745.139101</td>\n",
       "      <td>0.0</td>\n",
       "      <td>0.995885</td>\n",
       "      <td>0.090626</td>\n",
       "      <td>90.0</td>\n",
       "      <td>999</td>\n",
       "      <td>44.466633</td>\n",
       "    </tr>\n",
       "  </tbody>\n",
       "</table>\n",
       "</div>"
      ],
      "text/plain": [
       "     acc_angle_x  gyr_roll_x  kalman_roll  acc_angle_y  gyr_pitch_y  \\\n",
       "995    -4.620872    -0.61762     4.361264   -51.345012     -0.33438   \n",
       "996    -1.533327    -0.62354     3.690316   -37.425985     -0.33940   \n",
       "997     4.696172    -0.63186     3.907855   -29.960586     -0.34356   \n",
       "998     7.197352    -0.64292     4.429804    -8.133355     -0.34638   \n",
       "999     9.852483    -0.64598     5.054773    -4.958516     -0.35118   \n",
       "\n",
       "     kalman_pitch        yaw         Xh          Yh  mag_x_norm  mag_y_norm  \\\n",
       "995    -25.277177  91.741730 -22.538444 -741.193869         0.0    0.995852   \n",
       "996    -25.615955  91.744575 -22.605371 -742.181814         0.0    0.995860   \n",
       "997    -25.710805  91.747554 -22.674118 -743.169179         0.0    0.995869   \n",
       "998    -25.084237  91.750698 -22.745072 -744.155074         0.0    0.995877   \n",
       "999    -24.342809  91.754025 -22.818450 -745.139101         0.0    0.995885   \n",
       "\n",
       "     mag_z_norm  yaw_simple   ts  acc_angle_z  \n",
       "995    0.090986        90.0  995    31.893224  \n",
       "996    0.090896        90.0  996    38.443884  \n",
       "997    0.090806        90.0  997    40.806138  \n",
       "998    0.090716        90.0  998    44.483321  \n",
       "999    0.090626        90.0  999    44.466633  "
      ]
     },
     "execution_count": 8,
     "metadata": {},
     "output_type": "execute_result"
    }
   ],
   "source": [
    "vals_df.tail()"
   ]
  },
  {
   "cell_type": "code",
   "execution_count": 7,
   "metadata": {},
   "outputs": [
    {
     "data": {
      "image/png": "[encoded data removed]",
      "text/plain": [
       "<matplotlib.figure.Figure at 0x9119898>"
      ]
     },
     "metadata": {},
     "output_type": "display_data"
    }
   ],
   "source": [
    "import matplotlib.pyplot as plt\n",
    "\n",
    "df = vals_df\n",
    "\n",
    "# Optional conversion\n",
    "dt = 0.02 # 1/Sampling rate Hz\n",
    "ts = df.ts * dt\n",
    "\n",
    "# Plots\n",
    "\n",
    "fig, ax = plt.subplots()\n",
    "\n",
    "ax.plot(ts, df['kalman_roll'], color='r', label='kalman_roll')\n",
    "ax.plot(ts, df['kalman_pitch'], color='b', label='kalman_pitch')\n",
    "ax.plot(ts, df['acc_angle_z'], color='y', label='tilt angle - acc')\n",
    "ax.plot(ts, df['yaw'], color='g', label='yaw')\n",
    "\n",
    "handles, labels = ax.get_legend_handles_labels()\n",
    "ax.legend(handles, labels, bbox_to_anchor=(1.05, 1), loc=2, borderaxespad=0.)\n",
    "ax.set_xlabel('Time (secs)')\n",
    "ax.set_ylabel('$^\\circ$ degrees')\n",
    "plt.title('Rotation Angles')\n",
    "plt.show(fig)\n"
   ]
  }
 ],
 "metadata": {
  "kernelspec": {
   "display_name": "Python 3",
   "language": "python",
   "name": "python3"
  },
  "language_info": {
   "codemirror_mode": {
    "name": "ipython",
    "version": 3
   },
   "file_extension": ".py",
   "mimetype": "text/x-python",
   "name": "python",
   "nbconvert_exporter": "python",
   "pygments_lexer": "ipython3",
   "version": "3.4.0"
  }
 },
 "nbformat": 4,
 "nbformat_minor": 2
}
